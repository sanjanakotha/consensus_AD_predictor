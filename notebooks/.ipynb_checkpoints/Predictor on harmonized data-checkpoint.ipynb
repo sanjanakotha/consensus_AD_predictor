{
 "cells": [
  {
   "cell_type": "code",
   "execution_count": 1,
   "id": "8c846d32-9cf4-4d74-ab5f-17601d26f8c0",
   "metadata": {},
   "outputs": [],
   "source": [
    "import pandas as pd"
   ]
  },
  {
   "cell_type": "code",
   "execution_count": 3,
   "id": "54dce5a5-6a46-4c21-a52a-ec72e2a0f4fc",
   "metadata": {},
   "outputs": [
    {
     "data": {
      "text/html": [
       "<div>\n",
       "<style scoped>\n",
       "    .dataframe tbody tr th:only-of-type {\n",
       "        vertical-align: middle;\n",
       "    }\n",
       "\n",
       "    .dataframe tbody tr th {\n",
       "        vertical-align: top;\n",
       "    }\n",
       "\n",
       "    .dataframe thead th {\n",
       "        text-align: right;\n",
       "    }\n",
       "</style>\n",
       "<table border=\"1\" class=\"dataframe\">\n",
       "  <thead>\n",
       "    <tr style=\"text-align: right;\">\n",
       "      <th></th>\n",
       "      <th>Unnamed: 0</th>\n",
       "      <th>seq</th>\n",
       "      <th>z-score</th>\n",
       "    </tr>\n",
       "  </thead>\n",
       "  <tbody>\n",
       "    <tr>\n",
       "      <th>0</th>\n",
       "      <td>0</td>\n",
       "      <td>YYSSLGVEPWDLDGLFEFSRLLVDLNMDGFKIDWDYEVAE</td>\n",
       "      <td>39.863967</td>\n",
       "    </tr>\n",
       "    <tr>\n",
       "      <th>1</th>\n",
       "      <td>1</td>\n",
       "      <td>HLDVDLFADVEIDDPPQIDFDEVLSLVDDGQNPSSCVESF</td>\n",
       "      <td>67.641322</td>\n",
       "    </tr>\n",
       "    <tr>\n",
       "      <th>2</th>\n",
       "      <td>2</td>\n",
       "      <td>HLDSSNSFDAAASGDSDDDYLFDTSVLRFSNDDDGDLYLK</td>\n",
       "      <td>6.949263</td>\n",
       "    </tr>\n",
       "    <tr>\n",
       "      <th>3</th>\n",
       "      <td>3</td>\n",
       "      <td>HLDFPDMFDDALDLDAYDLGSLLSDIDSPMDFKDDMPTNY</td>\n",
       "      <td>49.213636</td>\n",
       "    </tr>\n",
       "    <tr>\n",
       "      <th>4</th>\n",
       "      <td>4</td>\n",
       "      <td>HKQSVAPTTLVDLNPIITCYSEWRSTDDLKDLLLEDFIDK</td>\n",
       "      <td>66.502383</td>\n",
       "    </tr>\n",
       "    <tr>\n",
       "      <th>...</th>\n",
       "      <td>...</td>\n",
       "      <td>...</td>\n",
       "      <td>...</td>\n",
       "    </tr>\n",
       "    <tr>\n",
       "      <th>104185</th>\n",
       "      <td>104185</td>\n",
       "      <td>SDFVVKAEDVEASMAIFWTPGTRVKMAMETEDSSRITWFQ</td>\n",
       "      <td>0.730194</td>\n",
       "    </tr>\n",
       "    <tr>\n",
       "      <th>104186</th>\n",
       "      <td>104186</td>\n",
       "      <td>EASMAIFWTPGTRVKMAMETEDSSRITWFQGIVFYTYQET</td>\n",
       "      <td>1.022412</td>\n",
       "    </tr>\n",
       "    <tr>\n",
       "      <th>104187</th>\n",
       "      <td>104187</td>\n",
       "      <td>GTRVKMAMETEDSSRITWFQGIVFYTYQETGPWRGSPWNS</td>\n",
       "      <td>-0.331438</td>\n",
       "    </tr>\n",
       "    <tr>\n",
       "      <th>104188</th>\n",
       "      <td>104188</td>\n",
       "      <td>EDSSRITWFQGIVFYTYQETGPWRGSPWNSFRYKIPFTIP</td>\n",
       "      <td>2.564526</td>\n",
       "    </tr>\n",
       "    <tr>\n",
       "      <th>104189</th>\n",
       "      <td>104189</td>\n",
       "      <td>RITWFQGIVFYTYQETGPWRGSPWNSFRYKIPFTIPLIFL</td>\n",
       "      <td>16.575984</td>\n",
       "    </tr>\n",
       "  </tbody>\n",
       "</table>\n",
       "<p>104190 rows × 3 columns</p>\n",
       "</div>"
      ],
      "text/plain": [
       "        Unnamed: 0                                       seq    z-score\n",
       "0                0  YYSSLGVEPWDLDGLFEFSRLLVDLNMDGFKIDWDYEVAE  39.863967\n",
       "1                1  HLDVDLFADVEIDDPPQIDFDEVLSLVDDGQNPSSCVESF  67.641322\n",
       "2                2  HLDSSNSFDAAASGDSDDDYLFDTSVLRFSNDDDGDLYLK   6.949263\n",
       "3                3  HLDFPDMFDDALDLDAYDLGSLLSDIDSPMDFKDDMPTNY  49.213636\n",
       "4                4  HKQSVAPTTLVDLNPIITCYSEWRSTDDLKDLLLEDFIDK  66.502383\n",
       "...            ...                                       ...        ...\n",
       "104185      104185  SDFVVKAEDVEASMAIFWTPGTRVKMAMETEDSSRITWFQ   0.730194\n",
       "104186      104186  EASMAIFWTPGTRVKMAMETEDSSRITWFQGIVFYTYQET   1.022412\n",
       "104187      104187  GTRVKMAMETEDSSRITWFQGIVFYTYQETGPWRGSPWNS  -0.331438\n",
       "104188      104188  EDSSRITWFQGIVFYTYQETGPWRGSPWNSFRYKIPFTIP   2.564526\n",
       "104189      104189  RITWFQGIVFYTYQETGPWRGSPWNSFRYKIPFTIPLIFL  16.575984\n",
       "\n",
       "[104190 rows x 3 columns]"
      ]
     },
     "execution_count": 3,
     "metadata": {},
     "output_type": "execute_result"
    }
   ],
   "source": [
    "input = pd.read_csv(\"../output/harmonized_screens.csv\").drop(columns = \"screen\")\n",
    "input "
   ]
  },
  {
   "cell_type": "code",
   "execution_count": 4,
   "id": "f255debf-4a85-40a0-9955-eabf8abeb1ca",
   "metadata": {},
   "outputs": [],
   "source": [
    "input.to_csv('../output/harmonized_screens_parrot_input.tsv', sep='\\t', index=False, header=False)"
   ]
  },
  {
   "cell_type": "code",
   "execution_count": null,
   "id": "2fad6add-ea6c-4afa-b402-1fc716a1fb71",
   "metadata": {},
   "outputs": [],
   "source": []
  }
 ],
 "metadata": {
  "kernelspec": {
   "display_name": "Python 3 (ipykernel)",
   "language": "python",
   "name": "python3"
  },
  "language_info": {
   "codemirror_mode": {
    "name": "ipython",
    "version": 3
   },
   "file_extension": ".py",
   "mimetype": "text/x-python",
   "name": "python",
   "nbconvert_exporter": "python",
   "pygments_lexer": "ipython3",
   "version": "3.11.7"
  }
 },
 "nbformat": 4,
 "nbformat_minor": 5
}
