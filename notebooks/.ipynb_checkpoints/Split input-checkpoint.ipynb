{
 "cells": [
  {
   "cell_type": "code",
   "execution_count": 36,
   "id": "02407218-e3fc-42b9-b1db-a2971d7f95e3",
   "metadata": {},
   "outputs": [],
   "source": [
    "import pandas as pd\n",
    "import numpy as np\n",
    "import protfasta"
   ]
  },
  {
   "cell_type": "code",
   "execution_count": 37,
   "id": "1db678b8-77aa-4700-acf1-da27ac771dca",
   "metadata": {},
   "outputs": [
    {
     "data": {
      "text/plain": [
       "137436"
      ]
     },
     "execution_count": 37,
     "metadata": {},
     "output_type": "execute_result"
    }
   ],
   "source": [
    "full_input = protfasta.read_fasta(\"../output/interpro_uniprot_evid_1_2.fasta\")\n",
    "len(full_input)"
   ]
  },
  {
   "cell_type": "code",
   "execution_count": 38,
   "id": "08cb2b54-f3c4-406e-8912-19da427b6cbd",
   "metadata": {},
   "outputs": [
    {
     "data": {
      "text/html": [
       "<div>\n",
       "<style scoped>\n",
       "    .dataframe tbody tr th:only-of-type {\n",
       "        vertical-align: middle;\n",
       "    }\n",
       "\n",
       "    .dataframe tbody tr th {\n",
       "        vertical-align: top;\n",
       "    }\n",
       "\n",
       "    .dataframe thead th {\n",
       "        text-align: right;\n",
       "    }\n",
       "</style>\n",
       "<table border=\"1\" class=\"dataframe\">\n",
       "  <thead>\n",
       "    <tr style=\"text-align: right;\">\n",
       "      <th></th>\n",
       "      <th>id</th>\n",
       "      <th>seq</th>\n",
       "    </tr>\n",
       "  </thead>\n",
       "  <tbody>\n",
       "    <tr>\n",
       "      <th>0</th>\n",
       "      <td>tr|A0A0B4K6B8|A0A0B4K6B8_DROME Modifier of mdg...</td>\n",
       "      <td>MADDEQFSLCWNNFNTNLSAGFHESLCRGDLVDVSLAAEGQIVKAH...</td>\n",
       "    </tr>\n",
       "    <tr>\n",
       "      <th>1</th>\n",
       "      <td>tr|A0A0B4K7A6|A0A0B4K7A6_DROME Modifier of mdg...</td>\n",
       "      <td>MADDEQFSLCWNNFNTNLSAGFHESLCRGDLVDVSLAAEGQIVKAH...</td>\n",
       "    </tr>\n",
       "    <tr>\n",
       "      <th>2</th>\n",
       "      <td>sp|A0A5S9MMK5|FPEB1_CAEEL FLYWCH-type zinc fin...</td>\n",
       "      <td>MMTTTVQKNCWRLDQTMLGLEKPGSSDISSSSTDTSAISPISVSSM...</td>\n",
       "    </tr>\n",
       "    <tr>\n",
       "      <th>3</th>\n",
       "      <td>sp|Q4VC44|FWCH1_HUMAN FLYWCH-type zinc finger-...</td>\n",
       "      <td>MPLPEPSEQEGESVKAGQEPSPKPGTDVIPAAPRKPREFSKLVLLT...</td>\n",
       "    </tr>\n",
       "    <tr>\n",
       "      <th>4</th>\n",
       "      <td>sp|Q86B87|MMD4_DROME Modifier of mdg4 OS=Droso...</td>\n",
       "      <td>MADDEQFSLCWNNFNTNLSAGFHESLCRGDLVDVSLAAEGQIVKAH...</td>\n",
       "    </tr>\n",
       "    <tr>\n",
       "      <th>...</th>\n",
       "      <td>...</td>\n",
       "      <td>...</td>\n",
       "    </tr>\n",
       "    <tr>\n",
       "      <th>137431</th>\n",
       "      <td>tr|W8C846|W8C846_CERCA (Mediterranean fruit fl...</td>\n",
       "      <td>MNNITRLLANCTLNTTRCHLKYNAAALTAAIQLRGKCKVVVKPAPG...</td>\n",
       "    </tr>\n",
       "    <tr>\n",
       "      <th>137432</th>\n",
       "      <td>tr|W8CA25|W8CA25_CERCA (Mediterranean fruit fl...</td>\n",
       "      <td>MAGRPRRQAATRTAQIIEISDSEDDNSVSKNKRRRRDSSFSPPPTK...</td>\n",
       "    </tr>\n",
       "    <tr>\n",
       "      <th>137433</th>\n",
       "      <td>tr|W8QUS6|W8QUS6_MIMNO Cold shock domain prote...</td>\n",
       "      <td>MSDSEKQPEEKEEPKKNVIATKVTGTVKWFNVKSGYGFINRDDTKE...</td>\n",
       "    </tr>\n",
       "    <tr>\n",
       "      <th>137434</th>\n",
       "      <td>tr|X5CQH7|X5CQH7_9EUKA 30S plastidal ribosomal...</td>\n",
       "      <td>MSSARPLVLIASLLGASEALQSCHTRLVSSRVAATPRAAWALTMCD...</td>\n",
       "    </tr>\n",
       "    <tr>\n",
       "      <th>137435</th>\n",
       "      <td>tr|X5DAG0|X5DAG0_9EUKA 30S plastidal ribosomal...</td>\n",
       "      <td>MRSRYGHVYEPEGGWASDSPEVDTGFSYADLEAGVGDIASFSRGDS...</td>\n",
       "    </tr>\n",
       "  </tbody>\n",
       "</table>\n",
       "<p>137436 rows × 2 columns</p>\n",
       "</div>"
      ],
      "text/plain": [
       "                                                       id  \\\n",
       "0       tr|A0A0B4K6B8|A0A0B4K6B8_DROME Modifier of mdg...   \n",
       "1       tr|A0A0B4K7A6|A0A0B4K7A6_DROME Modifier of mdg...   \n",
       "2       sp|A0A5S9MMK5|FPEB1_CAEEL FLYWCH-type zinc fin...   \n",
       "3       sp|Q4VC44|FWCH1_HUMAN FLYWCH-type zinc finger-...   \n",
       "4       sp|Q86B87|MMD4_DROME Modifier of mdg4 OS=Droso...   \n",
       "...                                                   ...   \n",
       "137431  tr|W8C846|W8C846_CERCA (Mediterranean fruit fl...   \n",
       "137432  tr|W8CA25|W8CA25_CERCA (Mediterranean fruit fl...   \n",
       "137433  tr|W8QUS6|W8QUS6_MIMNO Cold shock domain prote...   \n",
       "137434  tr|X5CQH7|X5CQH7_9EUKA 30S plastidal ribosomal...   \n",
       "137435  tr|X5DAG0|X5DAG0_9EUKA 30S plastidal ribosomal...   \n",
       "\n",
       "                                                      seq  \n",
       "0       MADDEQFSLCWNNFNTNLSAGFHESLCRGDLVDVSLAAEGQIVKAH...  \n",
       "1       MADDEQFSLCWNNFNTNLSAGFHESLCRGDLVDVSLAAEGQIVKAH...  \n",
       "2       MMTTTVQKNCWRLDQTMLGLEKPGSSDISSSSTDTSAISPISVSSM...  \n",
       "3       MPLPEPSEQEGESVKAGQEPSPKPGTDVIPAAPRKPREFSKLVLLT...  \n",
       "4       MADDEQFSLCWNNFNTNLSAGFHESLCRGDLVDVSLAAEGQIVKAH...  \n",
       "...                                                   ...  \n",
       "137431  MNNITRLLANCTLNTTRCHLKYNAAALTAAIQLRGKCKVVVKPAPG...  \n",
       "137432  MAGRPRRQAATRTAQIIEISDSEDDNSVSKNKRRRRDSSFSPPPTK...  \n",
       "137433  MSDSEKQPEEKEEPKKNVIATKVTGTVKWFNVKSGYGFINRDDTKE...  \n",
       "137434  MSSARPLVLIASLLGASEALQSCHTRLVSSRVAATPRAAWALTMCD...  \n",
       "137435  MRSRYGHVYEPEGGWASDSPEVDTGFSYADLEAGVGDIASFSRGDS...  \n",
       "\n",
       "[137436 rows x 2 columns]"
      ]
     },
     "execution_count": 38,
     "metadata": {},
     "output_type": "execute_result"
    }
   ],
   "source": [
    "seqs_df = pd.DataFrame({\"id\" : full_input.keys(), \"seq\" : full_input.values()})\n",
    "seqs_df"
   ]
  },
  {
   "cell_type": "code",
   "execution_count": 39,
   "id": "2a5c48c6-402c-45b0-bdf5-3e9af96368a7",
   "metadata": {},
   "outputs": [
    {
     "data": {
      "text/plain": [
       "<Axes: xlabel='seq', ylabel='Count'>"
      ]
     },
     "execution_count": 39,
     "metadata": {},
     "output_type": "execute_result"
    },
    {
     "data": {
      "image/png": "[encoded data removed]",
      "text/plain": [
       "<Figure size 640x480 with 1 Axes>"
      ]
     },
     "metadata": {},
     "output_type": "display_data"
    }
   ],
   "source": [
    "import seaborn as sns\n",
    "sns.histplot(seqs_df[\"seq\"].str.len())"
   ]
  },
  {
   "cell_type": "code",
   "execution_count": 40,
   "id": "dfdfd64b-fd6f-42ef-9fc8-7e50fcc0afa9",
   "metadata": {},
   "outputs": [
    {
     "data": {
      "text/plain": [
       "np.float64(62.350000000000136)"
      ]
     },
     "execution_count": 40,
     "metadata": {},
     "output_type": "execute_result"
    }
   ],
   "source": [
    "np.percentile(seqs_df[\"seq\"].str.len(), 1)"
   ]
  },
  {
   "cell_type": "code",
   "execution_count": 41,
   "id": "5f54d948-5bd5-46dc-aecf-db5ff217ef0c",
   "metadata": {},
   "outputs": [
    {
     "data": {
      "text/plain": [
       "np.float64(1891.0)"
      ]
     },
     "execution_count": 41,
     "metadata": {},
     "output_type": "execute_result"
    }
   ],
   "source": [
    "np.percentile(seqs_df[\"seq\"].str.len(), 99)"
   ]
  },
  {
   "cell_type": "code",
   "execution_count": 42,
   "id": "2d4466b8-b249-48c9-b3d0-e715bca186b6",
   "metadata": {},
   "outputs": [],
   "source": [
    "# Filter out sequences where the length is over 1891 "
   ]
  },
  {
   "cell_type": "code",
   "execution_count": 43,
   "id": "e16ef171-c195-4ecd-a6b4-add0d43b6420",
   "metadata": {},
   "outputs": [
    {
     "data": {
      "text/plain": [
       "1891"
      ]
     },
     "execution_count": 43,
     "metadata": {},
     "output_type": "execute_result"
    }
   ],
   "source": [
    "max(len_filtered[\"seq\"].str.len())"
   ]
  },
  {
   "cell_type": "code",
   "execution_count": 44,
   "id": "72fcd450-5840-4a30-b5ed-56ddaa1cf679",
   "metadata": {},
   "outputs": [
    {
     "data": {
      "text/html": [
       "<div>\n",
       "<style scoped>\n",
       "    .dataframe tbody tr th:only-of-type {\n",
       "        vertical-align: middle;\n",
       "    }\n",
       "\n",
       "    .dataframe tbody tr th {\n",
       "        vertical-align: top;\n",
       "    }\n",
       "\n",
       "    .dataframe thead th {\n",
       "        text-align: right;\n",
       "    }\n",
       "</style>\n",
       "<table border=\"1\" class=\"dataframe\">\n",
       "  <thead>\n",
       "    <tr style=\"text-align: right;\">\n",
       "      <th></th>\n",
       "      <th>id</th>\n",
       "      <th>seq</th>\n",
       "      <th>len</th>\n",
       "    </tr>\n",
       "  </thead>\n",
       "  <tbody>\n",
       "    <tr>\n",
       "      <th>0</th>\n",
       "      <td>tr|A0A0B4K6B8|A0A0B4K6B8_DROME Modifier of mdg...</td>\n",
       "      <td>MADDEQFSLCWNNFNTNLSAGFHESLCRGDLVDVSLAAEGQIVKAH...</td>\n",
       "      <td>479</td>\n",
       "    </tr>\n",
       "    <tr>\n",
       "      <th>1</th>\n",
       "      <td>tr|A0A0B4K7A6|A0A0B4K7A6_DROME Modifier of mdg...</td>\n",
       "      <td>MADDEQFSLCWNNFNTNLSAGFHESLCRGDLVDVSLAAEGQIVKAH...</td>\n",
       "      <td>510</td>\n",
       "    </tr>\n",
       "    <tr>\n",
       "      <th>2</th>\n",
       "      <td>sp|A0A5S9MMK5|FPEB1_CAEEL FLYWCH-type zinc fin...</td>\n",
       "      <td>MMTTTVQKNCWRLDQTMLGLEKPGSSDISSSSTDTSAISPISVSSM...</td>\n",
       "      <td>443</td>\n",
       "    </tr>\n",
       "    <tr>\n",
       "      <th>3</th>\n",
       "      <td>sp|Q4VC44|FWCH1_HUMAN FLYWCH-type zinc finger-...</td>\n",
       "      <td>MPLPEPSEQEGESVKAGQEPSPKPGTDVIPAAPRKPREFSKLVLLT...</td>\n",
       "      <td>716</td>\n",
       "    </tr>\n",
       "    <tr>\n",
       "      <th>4</th>\n",
       "      <td>sp|Q86B87|MMD4_DROME Modifier of mdg4 OS=Droso...</td>\n",
       "      <td>MADDEQFSLCWNNFNTNLSAGFHESLCRGDLVDVSLAAEGQIVKAH...</td>\n",
       "      <td>610</td>\n",
       "    </tr>\n",
       "    <tr>\n",
       "      <th>...</th>\n",
       "      <td>...</td>\n",
       "      <td>...</td>\n",
       "      <td>...</td>\n",
       "    </tr>\n",
       "    <tr>\n",
       "      <th>137431</th>\n",
       "      <td>tr|W8C846|W8C846_CERCA (Mediterranean fruit fl...</td>\n",
       "      <td>MNNITRLLANCTLNTTRCHLKYNAAALTAAIQLRGKCKVVVKPAPG...</td>\n",
       "      <td>300</td>\n",
       "    </tr>\n",
       "    <tr>\n",
       "      <th>137432</th>\n",
       "      <td>tr|W8CA25|W8CA25_CERCA (Mediterranean fruit fl...</td>\n",
       "      <td>MAGRPRRQAATRTAQIIEISDSEDDNSVSKNKRRRRDSSFSPPPTK...</td>\n",
       "      <td>939</td>\n",
       "    </tr>\n",
       "    <tr>\n",
       "      <th>137433</th>\n",
       "      <td>tr|W8QUS6|W8QUS6_MIMNO Cold shock domain prote...</td>\n",
       "      <td>MSDSEKQPEEKEEPKKNVIATKVTGTVKWFNVKSGYGFINRDDTKE...</td>\n",
       "      <td>294</td>\n",
       "    </tr>\n",
       "    <tr>\n",
       "      <th>137434</th>\n",
       "      <td>tr|X5CQH7|X5CQH7_9EUKA 30S plastidal ribosomal...</td>\n",
       "      <td>MSSARPLVLIASLLGASEALQSCHTRLVSSRVAATPRAAWALTMCD...</td>\n",
       "      <td>329</td>\n",
       "    </tr>\n",
       "    <tr>\n",
       "      <th>137435</th>\n",
       "      <td>tr|X5DAG0|X5DAG0_9EUKA 30S plastidal ribosomal...</td>\n",
       "      <td>MRSRYGHVYEPEGGWASDSPEVDTGFSYADLEAGVGDIASFSRGDS...</td>\n",
       "      <td>349</td>\n",
       "    </tr>\n",
       "  </tbody>\n",
       "</table>\n",
       "<p>135206 rows × 3 columns</p>\n",
       "</div>"
      ],
      "text/plain": [
       "                                                       id  \\\n",
       "0       tr|A0A0B4K6B8|A0A0B4K6B8_DROME Modifier of mdg...   \n",
       "1       tr|A0A0B4K7A6|A0A0B4K7A6_DROME Modifier of mdg...   \n",
       "2       sp|A0A5S9MMK5|FPEB1_CAEEL FLYWCH-type zinc fin...   \n",
       "3       sp|Q4VC44|FWCH1_HUMAN FLYWCH-type zinc finger-...   \n",
       "4       sp|Q86B87|MMD4_DROME Modifier of mdg4 OS=Droso...   \n",
       "...                                                   ...   \n",
       "137431  tr|W8C846|W8C846_CERCA (Mediterranean fruit fl...   \n",
       "137432  tr|W8CA25|W8CA25_CERCA (Mediterranean fruit fl...   \n",
       "137433  tr|W8QUS6|W8QUS6_MIMNO Cold shock domain prote...   \n",
       "137434  tr|X5CQH7|X5CQH7_9EUKA 30S plastidal ribosomal...   \n",
       "137435  tr|X5DAG0|X5DAG0_9EUKA 30S plastidal ribosomal...   \n",
       "\n",
       "                                                      seq  len  \n",
       "0       MADDEQFSLCWNNFNTNLSAGFHESLCRGDLVDVSLAAEGQIVKAH...  479  \n",
       "1       MADDEQFSLCWNNFNTNLSAGFHESLCRGDLVDVSLAAEGQIVKAH...  510  \n",
       "2       MMTTTVQKNCWRLDQTMLGLEKPGSSDISSSSTDTSAISPISVSSM...  443  \n",
       "3       MPLPEPSEQEGESVKAGQEPSPKPGTDVIPAAPRKPREFSKLVLLT...  716  \n",
       "4       MADDEQFSLCWNNFNTNLSAGFHESLCRGDLVDVSLAAEGQIVKAH...  610  \n",
       "...                                                   ...  ...  \n",
       "137431  MNNITRLLANCTLNTTRCHLKYNAAALTAAIQLRGKCKVVVKPAPG...  300  \n",
       "137432  MAGRPRRQAATRTAQIIEISDSEDDNSVSKNKRRRRDSSFSPPPTK...  939  \n",
       "137433  MSDSEKQPEEKEEPKKNVIATKVTGTVKWFNVKSGYGFINRDDTKE...  294  \n",
       "137434  MSSARPLVLIASLLGASEALQSCHTRLVSSRVAATPRAAWALTMCD...  329  \n",
       "137435  MRSRYGHVYEPEGGWASDSPEVDTGFSYADLEAGVGDIASFSRGDS...  349  \n",
       "\n",
       "[135206 rows x 3 columns]"
      ]
     },
     "execution_count": 44,
     "metadata": {},
     "output_type": "execute_result"
    }
   ],
   "source": [
    "seqs_df[\"len\"] = seqs_df[\"seq\"].str.len()\n",
    "len_filtered = seqs_df[seqs_df[\"len\"] >= 53]\n",
    "len_filtered = len_filtered[len_filtered[\"len\"] <= 1891]\n",
    "len_filtered"
   ]
  },
  {
   "cell_type": "code",
   "execution_count": 45,
   "id": "87dda9cc-8135-43a0-b446-5db258ac30f1",
   "metadata": {},
   "outputs": [
    {
     "data": {
      "text/html": [
       "<div>\n",
       "<style scoped>\n",
       "    .dataframe tbody tr th:only-of-type {\n",
       "        vertical-align: middle;\n",
       "    }\n",
       "\n",
       "    .dataframe tbody tr th {\n",
       "        vertical-align: top;\n",
       "    }\n",
       "\n",
       "    .dataframe thead th {\n",
       "        text-align: right;\n",
       "    }\n",
       "</style>\n",
       "<table border=\"1\" class=\"dataframe\">\n",
       "  <thead>\n",
       "    <tr style=\"text-align: right;\">\n",
       "      <th></th>\n",
       "      <th>id</th>\n",
       "      <th>seq</th>\n",
       "      <th>len</th>\n",
       "    </tr>\n",
       "  </thead>\n",
       "  <tbody>\n",
       "    <tr>\n",
       "      <th>0</th>\n",
       "      <td>tr|A0A0B4K6B8|A0A0B4K6B8_DROME Modifier of mdg...</td>\n",
       "      <td>MADDEQFSLCWNNFNTNLSAGFHESLCRGDLVDVSLAAEGQIVKAH...</td>\n",
       "      <td>479</td>\n",
       "    </tr>\n",
       "    <tr>\n",
       "      <th>1</th>\n",
       "      <td>tr|A0A0B4K7A6|A0A0B4K7A6_DROME Modifier of mdg...</td>\n",
       "      <td>MADDEQFSLCWNNFNTNLSAGFHESLCRGDLVDVSLAAEGQIVKAH...</td>\n",
       "      <td>510</td>\n",
       "    </tr>\n",
       "    <tr>\n",
       "      <th>2</th>\n",
       "      <td>sp|A0A5S9MMK5|FPEB1_CAEEL FLYWCH-type zinc fin...</td>\n",
       "      <td>MMTTTVQKNCWRLDQTMLGLEKPGSSDISSSSTDTSAISPISVSSM...</td>\n",
       "      <td>443</td>\n",
       "    </tr>\n",
       "    <tr>\n",
       "      <th>3</th>\n",
       "      <td>sp|Q4VC44|FWCH1_HUMAN FLYWCH-type zinc finger-...</td>\n",
       "      <td>MPLPEPSEQEGESVKAGQEPSPKPGTDVIPAAPRKPREFSKLVLLT...</td>\n",
       "      <td>716</td>\n",
       "    </tr>\n",
       "    <tr>\n",
       "      <th>4</th>\n",
       "      <td>sp|Q86B87|MMD4_DROME Modifier of mdg4 OS=Droso...</td>\n",
       "      <td>MADDEQFSLCWNNFNTNLSAGFHESLCRGDLVDVSLAAEGQIVKAH...</td>\n",
       "      <td>610</td>\n",
       "    </tr>\n",
       "    <tr>\n",
       "      <th>...</th>\n",
       "      <td>...</td>\n",
       "      <td>...</td>\n",
       "      <td>...</td>\n",
       "    </tr>\n",
       "    <tr>\n",
       "      <th>137431</th>\n",
       "      <td>tr|W8C846|W8C846_CERCA (Mediterranean fruit fl...</td>\n",
       "      <td>MNNITRLLANCTLNTTRCHLKYNAAALTAAIQLRGKCKVVVKPAPG...</td>\n",
       "      <td>300</td>\n",
       "    </tr>\n",
       "    <tr>\n",
       "      <th>137432</th>\n",
       "      <td>tr|W8CA25|W8CA25_CERCA (Mediterranean fruit fl...</td>\n",
       "      <td>MAGRPRRQAATRTAQIIEISDSEDDNSVSKNKRRRRDSSFSPPPTK...</td>\n",
       "      <td>939</td>\n",
       "    </tr>\n",
       "    <tr>\n",
       "      <th>137433</th>\n",
       "      <td>tr|W8QUS6|W8QUS6_MIMNO Cold shock domain prote...</td>\n",
       "      <td>MSDSEKQPEEKEEPKKNVIATKVTGTVKWFNVKSGYGFINRDDTKE...</td>\n",
       "      <td>294</td>\n",
       "    </tr>\n",
       "    <tr>\n",
       "      <th>137434</th>\n",
       "      <td>tr|X5CQH7|X5CQH7_9EUKA 30S plastidal ribosomal...</td>\n",
       "      <td>MSSARPLVLIASLLGASEALQSCHTRLVSSRVAATPRAAWALTMCD...</td>\n",
       "      <td>329</td>\n",
       "    </tr>\n",
       "    <tr>\n",
       "      <th>137435</th>\n",
       "      <td>tr|X5DAG0|X5DAG0_9EUKA 30S plastidal ribosomal...</td>\n",
       "      <td>MRSRYGHVYEPEGGWASDSPEVDTGFSYADLEAGVGDIASFSRGDS...</td>\n",
       "      <td>349</td>\n",
       "    </tr>\n",
       "  </tbody>\n",
       "</table>\n",
       "<p>135206 rows × 3 columns</p>\n",
       "</div>"
      ],
      "text/plain": [
       "                                                       id  \\\n",
       "0       tr|A0A0B4K6B8|A0A0B4K6B8_DROME Modifier of mdg...   \n",
       "1       tr|A0A0B4K7A6|A0A0B4K7A6_DROME Modifier of mdg...   \n",
       "2       sp|A0A5S9MMK5|FPEB1_CAEEL FLYWCH-type zinc fin...   \n",
       "3       sp|Q4VC44|FWCH1_HUMAN FLYWCH-type zinc finger-...   \n",
       "4       sp|Q86B87|MMD4_DROME Modifier of mdg4 OS=Droso...   \n",
       "...                                                   ...   \n",
       "137431  tr|W8C846|W8C846_CERCA (Mediterranean fruit fl...   \n",
       "137432  tr|W8CA25|W8CA25_CERCA (Mediterranean fruit fl...   \n",
       "137433  tr|W8QUS6|W8QUS6_MIMNO Cold shock domain prote...   \n",
       "137434  tr|X5CQH7|X5CQH7_9EUKA 30S plastidal ribosomal...   \n",
       "137435  tr|X5DAG0|X5DAG0_9EUKA 30S plastidal ribosomal...   \n",
       "\n",
       "                                                      seq  len  \n",
       "0       MADDEQFSLCWNNFNTNLSAGFHESLCRGDLVDVSLAAEGQIVKAH...  479  \n",
       "1       MADDEQFSLCWNNFNTNLSAGFHESLCRGDLVDVSLAAEGQIVKAH...  510  \n",
       "2       MMTTTVQKNCWRLDQTMLGLEKPGSSDISSSSTDTSAISPISVSSM...  443  \n",
       "3       MPLPEPSEQEGESVKAGQEPSPKPGTDVIPAAPRKPREFSKLVLLT...  716  \n",
       "4       MADDEQFSLCWNNFNTNLSAGFHESLCRGDLVDVSLAAEGQIVKAH...  610  \n",
       "...                                                   ...  ...  \n",
       "137431  MNNITRLLANCTLNTTRCHLKYNAAALTAAIQLRGKCKVVVKPAPG...  300  \n",
       "137432  MAGRPRRQAATRTAQIIEISDSEDDNSVSKNKRRRRDSSFSPPPTK...  939  \n",
       "137433  MSDSEKQPEEKEEPKKNVIATKVTGTVKWFNVKSGYGFINRDDTKE...  294  \n",
       "137434  MSSARPLVLIASLLGASEALQSCHTRLVSSRVAATPRAAWALTMCD...  329  \n",
       "137435  MRSRYGHVYEPEGGWASDSPEVDTGFSYADLEAGVGDIASFSRGDS...  349  \n",
       "\n",
       "[135206 rows x 3 columns]"
      ]
     },
     "execution_count": 45,
     "metadata": {},
     "output_type": "execute_result"
    }
   ],
   "source": [
    "len_filtered.dropna()"
   ]
  },
  {
   "cell_type": "code",
   "execution_count": 46,
   "id": "61d58971-6cd9-4f38-885c-a23bcd469f6b",
   "metadata": {},
   "outputs": [],
   "source": [
    "def write_fasta(df, save_path):\n",
    "    print(save_path)\n",
    "    protfasta.write_fasta(dict(zip(df[\"id\"], df[\"seq\"])), save_path)"
   ]
  },
  {
   "cell_type": "code",
   "execution_count": 47,
   "id": "bb5edeac-522f-472f-a8a6-3dc741d6c921",
   "metadata": {
    "scrolled": true
   },
   "outputs": [
    {
     "name": "stdout",
     "output_type": "stream",
     "text": [
      "../data/interpro_uniprot_evid_1_2_split/pt_0.fasta\n",
      "../data/interpro_uniprot_evid_1_2_split/pt_1.fasta\n",
      "../data/interpro_uniprot_evid_1_2_split/pt_2.fasta\n",
      "../data/interpro_uniprot_evid_1_2_split/pt_3.fasta\n",
      "../data/interpro_uniprot_evid_1_2_split/pt_4.fasta\n",
      "../data/interpro_uniprot_evid_1_2_split/pt_5.fasta\n",
      "../data/interpro_uniprot_evid_1_2_split/pt_6.fasta\n",
      "../data/interpro_uniprot_evid_1_2_split/pt_7.fasta\n",
      "../data/interpro_uniprot_evid_1_2_split/pt_8.fasta\n",
      "../data/interpro_uniprot_evid_1_2_split/pt_9.fasta\n",
      "../data/interpro_uniprot_evid_1_2_split/pt_10.fasta\n",
      "../data/interpro_uniprot_evid_1_2_split/pt_11.fasta\n",
      "../data/interpro_uniprot_evid_1_2_split/pt_12.fasta\n",
      "../data/interpro_uniprot_evid_1_2_split/pt_13.fasta\n",
      "../data/interpro_uniprot_evid_1_2_split/pt_14.fasta\n",
      "../data/interpro_uniprot_evid_1_2_split/pt_15.fasta\n",
      "../data/interpro_uniprot_evid_1_2_split/pt_16.fasta\n",
      "../data/interpro_uniprot_evid_1_2_split/pt_17.fasta\n",
      "../data/interpro_uniprot_evid_1_2_split/pt_18.fasta\n",
      "../data/interpro_uniprot_evid_1_2_split/pt_19.fasta\n",
      "../data/interpro_uniprot_evid_1_2_split/pt_20.fasta\n",
      "../data/interpro_uniprot_evid_1_2_split/pt_21.fasta\n",
      "../data/interpro_uniprot_evid_1_2_split/pt_22.fasta\n",
      "../data/interpro_uniprot_evid_1_2_split/pt_23.fasta\n",
      "../data/interpro_uniprot_evid_1_2_split/pt_24.fasta\n",
      "../data/interpro_uniprot_evid_1_2_split/pt_25.fasta\n",
      "../data/interpro_uniprot_evid_1_2_split/pt_26.fasta\n",
      "../data/interpro_uniprot_evid_1_2_split/pt_27.fasta\n",
      "../data/interpro_uniprot_evid_1_2_split/pt_28.fasta\n",
      "../data/interpro_uniprot_evid_1_2_split/pt_29.fasta\n",
      "../data/interpro_uniprot_evid_1_2_split/pt_30.fasta\n",
      "../data/interpro_uniprot_evid_1_2_split/pt_31.fasta\n",
      "../data/interpro_uniprot_evid_1_2_split/pt_32.fasta\n",
      "../data/interpro_uniprot_evid_1_2_split/pt_33.fasta\n",
      "../data/interpro_uniprot_evid_1_2_split/pt_34.fasta\n",
      "../data/interpro_uniprot_evid_1_2_split/pt_35.fasta\n",
      "../data/interpro_uniprot_evid_1_2_split/pt_36.fasta\n",
      "../data/interpro_uniprot_evid_1_2_split/pt_37.fasta\n",
      "../data/interpro_uniprot_evid_1_2_split/pt_38.fasta\n",
      "../data/interpro_uniprot_evid_1_2_split/pt_39.fasta\n",
      "../data/interpro_uniprot_evid_1_2_split/pt_40.fasta\n",
      "../data/interpro_uniprot_evid_1_2_split/pt_41.fasta\n",
      "../data/interpro_uniprot_evid_1_2_split/pt_42.fasta\n",
      "../data/interpro_uniprot_evid_1_2_split/pt_43.fasta\n",
      "../data/interpro_uniprot_evid_1_2_split/pt_44.fasta\n",
      "../data/interpro_uniprot_evid_1_2_split/pt_45.fasta\n",
      "../data/interpro_uniprot_evid_1_2_split/pt_46.fasta\n",
      "../data/interpro_uniprot_evid_1_2_split/pt_47.fasta\n",
      "../data/interpro_uniprot_evid_1_2_split/pt_48.fasta\n",
      "../data/interpro_uniprot_evid_1_2_split/pt_49.fasta\n",
      "../data/interpro_uniprot_evid_1_2_split/pt_50.fasta\n",
      "../data/interpro_uniprot_evid_1_2_split/pt_51.fasta\n",
      "../data/interpro_uniprot_evid_1_2_split/pt_52.fasta\n",
      "../data/interpro_uniprot_evid_1_2_split/pt_53.fasta\n",
      "../data/interpro_uniprot_evid_1_2_split/pt_54.fasta\n",
      "../data/interpro_uniprot_evid_1_2_split/pt_55.fasta\n",
      "../data/interpro_uniprot_evid_1_2_split/pt_56.fasta\n",
      "../data/interpro_uniprot_evid_1_2_split/pt_57.fasta\n",
      "../data/interpro_uniprot_evid_1_2_split/pt_58.fasta\n",
      "../data/interpro_uniprot_evid_1_2_split/pt_59.fasta\n",
      "../data/interpro_uniprot_evid_1_2_split/pt_60.fasta\n",
      "../data/interpro_uniprot_evid_1_2_split/pt_61.fasta\n",
      "../data/interpro_uniprot_evid_1_2_split/pt_62.fasta\n",
      "../data/interpro_uniprot_evid_1_2_split/pt_63.fasta\n",
      "../data/interpro_uniprot_evid_1_2_split/pt_64.fasta\n",
      "../data/interpro_uniprot_evid_1_2_split/pt_65.fasta\n",
      "../data/interpro_uniprot_evid_1_2_split/pt_66.fasta\n",
      "../data/interpro_uniprot_evid_1_2_split/pt_67.fasta\n",
      "../data/interpro_uniprot_evid_1_2_split/pt_68.fasta\n",
      "../data/interpro_uniprot_evid_1_2_split/pt_69.fasta\n",
      "../data/interpro_uniprot_evid_1_2_split/pt_70.fasta\n",
      "../data/interpro_uniprot_evid_1_2_split/pt_71.fasta\n",
      "../data/interpro_uniprot_evid_1_2_split/pt_72.fasta\n",
      "../data/interpro_uniprot_evid_1_2_split/pt_73.fasta\n",
      "../data/interpro_uniprot_evid_1_2_split/pt_74.fasta\n",
      "../data/interpro_uniprot_evid_1_2_split/pt_75.fasta\n",
      "../data/interpro_uniprot_evid_1_2_split/pt_76.fasta\n",
      "../data/interpro_uniprot_evid_1_2_split/pt_77.fasta\n",
      "../data/interpro_uniprot_evid_1_2_split/pt_78.fasta\n",
      "../data/interpro_uniprot_evid_1_2_split/pt_79.fasta\n",
      "../data/interpro_uniprot_evid_1_2_split/pt_80.fasta\n",
      "../data/interpro_uniprot_evid_1_2_split/pt_81.fasta\n",
      "../data/interpro_uniprot_evid_1_2_split/pt_82.fasta\n",
      "../data/interpro_uniprot_evid_1_2_split/pt_83.fasta\n",
      "../data/interpro_uniprot_evid_1_2_split/pt_84.fasta\n",
      "../data/interpro_uniprot_evid_1_2_split/pt_85.fasta\n",
      "../data/interpro_uniprot_evid_1_2_split/pt_86.fasta\n",
      "../data/interpro_uniprot_evid_1_2_split/pt_87.fasta\n",
      "../data/interpro_uniprot_evid_1_2_split/pt_88.fasta\n",
      "../data/interpro_uniprot_evid_1_2_split/pt_89.fasta\n",
      "../data/interpro_uniprot_evid_1_2_split/pt_90.fasta\n",
      "../data/interpro_uniprot_evid_1_2_split/pt_91.fasta\n",
      "../data/interpro_uniprot_evid_1_2_split/pt_92.fasta\n",
      "../data/interpro_uniprot_evid_1_2_split/pt_93.fasta\n",
      "../data/interpro_uniprot_evid_1_2_split/pt_94.fasta\n",
      "../data/interpro_uniprot_evid_1_2_split/pt_95.fasta\n",
      "../data/interpro_uniprot_evid_1_2_split/pt_96.fasta\n",
      "../data/interpro_uniprot_evid_1_2_split/pt_97.fasta\n",
      "../data/interpro_uniprot_evid_1_2_split/pt_98.fasta\n",
      "../data/interpro_uniprot_evid_1_2_split/pt_99.fasta\n",
      "../data/interpro_uniprot_evid_1_2_split/pt_100.fasta\n",
      "../data/interpro_uniprot_evid_1_2_split/pt_101.fasta\n",
      "../data/interpro_uniprot_evid_1_2_split/pt_102.fasta\n",
      "../data/interpro_uniprot_evid_1_2_split/pt_103.fasta\n",
      "../data/interpro_uniprot_evid_1_2_split/pt_104.fasta\n",
      "../data/interpro_uniprot_evid_1_2_split/pt_105.fasta\n",
      "../data/interpro_uniprot_evid_1_2_split/pt_106.fasta\n",
      "../data/interpro_uniprot_evid_1_2_split/pt_107.fasta\n",
      "../data/interpro_uniprot_evid_1_2_split/pt_108.fasta\n",
      "../data/interpro_uniprot_evid_1_2_split/pt_109.fasta\n",
      "../data/interpro_uniprot_evid_1_2_split/pt_110.fasta\n",
      "../data/interpro_uniprot_evid_1_2_split/pt_111.fasta\n",
      "../data/interpro_uniprot_evid_1_2_split/pt_112.fasta\n",
      "../data/interpro_uniprot_evid_1_2_split/pt_113.fasta\n",
      "../data/interpro_uniprot_evid_1_2_split/pt_114.fasta\n",
      "../data/interpro_uniprot_evid_1_2_split/pt_115.fasta\n",
      "../data/interpro_uniprot_evid_1_2_split/pt_116.fasta\n",
      "../data/interpro_uniprot_evid_1_2_split/pt_117.fasta\n",
      "../data/interpro_uniprot_evid_1_2_split/pt_118.fasta\n",
      "../data/interpro_uniprot_evid_1_2_split/pt_119.fasta\n",
      "../data/interpro_uniprot_evid_1_2_split/pt_120.fasta\n",
      "../data/interpro_uniprot_evid_1_2_split/pt_121.fasta\n",
      "../data/interpro_uniprot_evid_1_2_split/pt_122.fasta\n",
      "../data/interpro_uniprot_evid_1_2_split/pt_123.fasta\n",
      "../data/interpro_uniprot_evid_1_2_split/pt_124.fasta\n",
      "../data/interpro_uniprot_evid_1_2_split/pt_125.fasta\n",
      "../data/interpro_uniprot_evid_1_2_split/pt_126.fasta\n",
      "../data/interpro_uniprot_evid_1_2_split/pt_127.fasta\n",
      "../data/interpro_uniprot_evid_1_2_split/pt_128.fasta\n",
      "../data/interpro_uniprot_evid_1_2_split/pt_129.fasta\n",
      "../data/interpro_uniprot_evid_1_2_split/pt_130.fasta\n",
      "../data/interpro_uniprot_evid_1_2_split/pt_131.fasta\n",
      "../data/interpro_uniprot_evid_1_2_split/pt_132.fasta\n",
      "../data/interpro_uniprot_evid_1_2_split/pt_133.fasta\n",
      "../data/interpro_uniprot_evid_1_2_split/pt_134.fasta\n",
      "../data/interpro_uniprot_evid_1_2_split/pt_135.fasta\n",
      "../data/interpro_uniprot_evid_1_2_split/pt_136.fasta\n",
      "../data/interpro_uniprot_evid_1_2_split/pt_137.fasta\n"
     ]
    }
   ],
   "source": [
    "for i in np.arange(0, len(seqs_df)+1, 1000):\n",
    "    write_fasta(len_filtered.iloc[i: i+1000], \"../data/interpro_uniprot_evid_1_2_split/\" + str(f'pt_{int(i/1000)}.fasta'))"
   ]
  },
  {
   "cell_type": "markdown",
   "id": "84245900-6532-4a13-bbfb-5ff3e5a22a7f",
   "metadata": {},
   "source": [
    "# Making a shorter test file"
   ]
  },
  {
   "cell_type": "code",
   "execution_count": 48,
   "id": "2f59a5db-1660-44c7-b792-f9513af69608",
   "metadata": {},
   "outputs": [
    {
     "name": "stdout",
     "output_type": "stream",
     "text": [
      "../data/all_predictors_test_50.fasta\n"
     ]
    }
   ],
   "source": [
    "write_fasta(len_filtered.iloc[:50], \"../data/all_predictors_test_50.fasta\")"
   ]
  },
  {
   "cell_type": "code",
   "execution_count": 49,
   "id": "e3652ac3-060e-407b-a4c8-471884f1ec53",
   "metadata": {},
   "outputs": [
    {
     "name": "stdout",
     "output_type": "stream",
     "text": [
      "../data/all_predictors_test_3.fasta\n"
     ]
    }
   ],
   "source": [
    "write_fasta(len_filtered.iloc[:50], \"../data/all_predictors_test_3.fasta\")"
   ]
  },
  {
   "cell_type": "code",
   "execution_count": null,
   "id": "da375b3e-c758-4d42-9773-a2ffdc522c65",
   "metadata": {},
   "outputs": [],
   "source": []
  }
 ],
 "metadata": {
  "kernelspec": {
   "display_name": "parrot",
   "language": "python",
   "name": "parrot"
  },
  "language_info": {
   "codemirror_mode": {
    "name": "ipython",
    "version": 3
   },
   "file_extension": ".py",
   "mimetype": "text/x-python",
   "name": "python",
   "nbconvert_exporter": "python",
   "pygments_lexer": "ipython3",
   "version": "3.10.16"
  }
 },
 "nbformat": 4,
 "nbformat_minor": 5
}
