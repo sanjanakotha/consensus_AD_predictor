{
 "cells": [
  {
   "cell_type": "code",
   "execution_count": 2,
   "metadata": {},
   "outputs": [],
   "source": [
    "import pandas as pd"
   ]
  },
  {
   "cell_type": "code",
   "execution_count": 3,
   "metadata": {},
   "outputs": [
    {
     "data": {
      "text/html": [
       "<div>\n",
       "<style scoped>\n",
       "    .dataframe tbody tr th:only-of-type {\n",
       "        vertical-align: middle;\n",
       "    }\n",
       "\n",
       "    .dataframe tbody tr th {\n",
       "        vertical-align: top;\n",
       "    }\n",
       "\n",
       "    .dataframe thead th {\n",
       "        text-align: right;\n",
       "    }\n",
       "</style>\n",
       "<table border=\"1\" class=\"dataframe\">\n",
       "  <thead>\n",
       "    <tr style=\"text-align: right;\">\n",
       "      <th></th>\n",
       "      <th>Name</th>\n",
       "      <th>ADseq</th>\n",
       "      <th>T1/2</th>\n",
       "    </tr>\n",
       "  </thead>\n",
       "  <tbody>\n",
       "    <tr>\n",
       "      <th>1</th>\n",
       "      <td>Sordariomycetes_jgi|Acral2|2019554|gm1.4974_g_6</td>\n",
       "      <td>EVYNRIESSTASTALQRQDLRYTFRSNARAASGQANANYQ</td>\n",
       "      <td>0.000000</td>\n",
       "    </tr>\n",
       "    <tr>\n",
       "      <th>3</th>\n",
       "      <td>Sordariomycetes_jgi|Acral2|2019554|gm1.4974_g_16</td>\n",
       "      <td>ASTALQRQDLRYTFRSNARAASGQANANYQAFTAGSALNG</td>\n",
       "      <td>0.000000</td>\n",
       "    </tr>\n",
       "    <tr>\n",
       "      <th>5</th>\n",
       "      <td>Sordariomycetes_jgi|Acral2|2019554|gm1.4974_g_26</td>\n",
       "      <td>RYTFRSNARAASGQANANYQAFTAGSALNGPSLPAPSLFA</td>\n",
       "      <td>0.000000</td>\n",
       "    </tr>\n",
       "    <tr>\n",
       "      <th>6</th>\n",
       "      <td>Sordariomycetes_jgi|Acral2|2019554|gm1.4974_g_31</td>\n",
       "      <td>SNARAASGQANANYQAFTAGSALNGPSLPAPSLFAGHGPE</td>\n",
       "      <td>0.000000</td>\n",
       "    </tr>\n",
       "    <tr>\n",
       "      <th>7</th>\n",
       "      <td>Sordariomycetes_jgi|Acral2|2019554|gm1.4974_g_36</td>\n",
       "      <td>ASGQANANYQAFTAGSALNGPSLPAPSLFAGHGPEAHSDH</td>\n",
       "      <td>0.000000</td>\n",
       "    </tr>\n",
       "    <tr>\n",
       "      <th>...</th>\n",
       "      <td>...</td>\n",
       "      <td>...</td>\n",
       "      <td>...</td>\n",
       "    </tr>\n",
       "    <tr>\n",
       "      <th>20726</th>\n",
       "      <td>Gnc4Lib_Kappa_HIGH_0</td>\n",
       "      <td>AKVDTEEEDKTMVDSTSLSWEDLFDFESYSTDLIASINPD</td>\n",
       "      <td>11.828672</td>\n",
       "    </tr>\n",
       "    <tr>\n",
       "      <th>20727</th>\n",
       "      <td>Gnc4Lib_Disorder_HIGH_0</td>\n",
       "      <td>STDYTPMFEYETYEDNFKEWTSLFDNDIPVTTDDVSLADR</td>\n",
       "      <td>7.633362</td>\n",
       "    </tr>\n",
       "    <tr>\n",
       "      <th>20728</th>\n",
       "      <td>Gnc4Lib_Disorder_HIGH_0</td>\n",
       "      <td>MTDSTPMFEYELTENNSKEWTSLFDTDIPVTTDDESLADK</td>\n",
       "      <td>10.871773</td>\n",
       "    </tr>\n",
       "    <tr>\n",
       "      <th>20729</th>\n",
       "      <td>Gnc4Lib_Charge_HIGH_0</td>\n",
       "      <td>STDSTPMFEYQNLENNSKEWTSLFDNDIPVTTDNVSLADK</td>\n",
       "      <td>17.640456</td>\n",
       "    </tr>\n",
       "    <tr>\n",
       "      <th>20730</th>\n",
       "      <td>Gnc4Lib_Disorder_HIGH_0</td>\n",
       "      <td>NTDSTHMFEYWALEDNSKEWTSLFDNDIWVTTDDVSLADK</td>\n",
       "      <td>9.927722</td>\n",
       "    </tr>\n",
       "  </tbody>\n",
       "</table>\n",
       "<p>10198 rows × 3 columns</p>\n",
       "</div>"
      ],
      "text/plain": [
       "                                                   Name  \\\n",
       "1       Sordariomycetes_jgi|Acral2|2019554|gm1.4974_g_6   \n",
       "3      Sordariomycetes_jgi|Acral2|2019554|gm1.4974_g_16   \n",
       "5      Sordariomycetes_jgi|Acral2|2019554|gm1.4974_g_26   \n",
       "6      Sordariomycetes_jgi|Acral2|2019554|gm1.4974_g_31   \n",
       "7      Sordariomycetes_jgi|Acral2|2019554|gm1.4974_g_36   \n",
       "...                                                 ...   \n",
       "20726                              Gnc4Lib_Kappa_HIGH_0   \n",
       "20727                           Gnc4Lib_Disorder_HIGH_0   \n",
       "20728                           Gnc4Lib_Disorder_HIGH_0   \n",
       "20729                             Gnc4Lib_Charge_HIGH_0   \n",
       "20730                           Gnc4Lib_Disorder_HIGH_0   \n",
       "\n",
       "                                          ADseq       T1/2  \n",
       "1      EVYNRIESSTASTALQRQDLRYTFRSNARAASGQANANYQ   0.000000  \n",
       "3      ASTALQRQDLRYTFRSNARAASGQANANYQAFTAGSALNG   0.000000  \n",
       "5      RYTFRSNARAASGQANANYQAFTAGSALNGPSLPAPSLFA   0.000000  \n",
       "6      SNARAASGQANANYQAFTAGSALNGPSLPAPSLFAGHGPE   0.000000  \n",
       "7      ASGQANANYQAFTAGSALNGPSLPAPSLFAGHGPEAHSDH   0.000000  \n",
       "...                                         ...        ...  \n",
       "20726  AKVDTEEEDKTMVDSTSLSWEDLFDFESYSTDLIASINPD  11.828672  \n",
       "20727  STDYTPMFEYETYEDNFKEWTSLFDNDIPVTTDDVSLADR   7.633362  \n",
       "20728  MTDSTPMFEYELTENNSKEWTSLFDTDIPVTTDDESLADK  10.871773  \n",
       "20729  STDSTPMFEYQNLENNSKEWTSLFDNDIPVTTDNVSLADK  17.640456  \n",
       "20730  NTDSTHMFEYWALEDNSKEWTSLFDNDIWVTTDDVSLADK   9.927722  \n",
       "\n",
       "[10198 rows x 3 columns]"
      ]
     },
     "execution_count": 3,
     "metadata": {},
     "output_type": "execute_result"
    }
   ],
   "source": [
    "input_rows = pd.read_csv(\"../data/MergeGcn4SortSeq_Kinetics_20250507.csv\")[[\"Name\", \"ADseq\", \"T1/2\"]].dropna()\n",
    "input_rows"
   ]
  },
  {
   "cell_type": "code",
   "execution_count": 4,
   "metadata": {},
   "outputs": [],
   "source": [
    "input_rows.to_csv('../output/kinetics_parrot_input.tsv', sep='\\t', index=False, header=False)"
   ]
  },
  {
   "cell_type": "markdown",
   "metadata": {},
   "source": [
    "Will submit this job:\n",
    "\n",
    "parrot-train '../output/kinetics_parrot_input.tsv' '../output/parrot_kinetics' -d 'sequence' -c 1 --include-figs"
   ]
  },
  {
   "cell_type": "code",
   "execution_count": null,
   "metadata": {},
   "outputs": [],
   "source": []
  }
 ],
 "metadata": {
  "kernelspec": {
   "display_name": "Python 3 (ipykernel)",
   "language": "python",
   "name": "python3"
  },
  "language_info": {
   "codemirror_mode": {
    "name": "ipython",
    "version": 3
   },
   "file_extension": ".py",
   "mimetype": "text/x-python",
   "name": "python",
   "nbconvert_exporter": "python",
   "pygments_lexer": "ipython3",
   "version": "3.11.7"
  }
 },
 "nbformat": 4,
 "nbformat_minor": 4
}
