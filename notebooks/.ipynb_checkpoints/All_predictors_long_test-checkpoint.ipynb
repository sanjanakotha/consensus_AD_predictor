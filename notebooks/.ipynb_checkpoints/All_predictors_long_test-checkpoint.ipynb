{
 "cells": [
  {
   "cell_type": "code",
   "execution_count": 8,
   "id": "dbc77908-0646-470d-b4ee-17d09ce45aa0",
   "metadata": {},
   "outputs": [],
   "source": [
    "import pandas as pd\n",
    "from ast import literal_eval\n"
   ]
  },
  {
   "cell_type": "code",
   "execution_count": 22,
   "id": "f8679776-2534-491e-9d6e-83722261ac9e",
   "metadata": {},
   "outputs": [
    {
     "data": {
      "text/html": [
       "<div>\n",
       "<style scoped>\n",
       "    .dataframe tbody tr th:only-of-type {\n",
       "        vertical-align: middle;\n",
       "    }\n",
       "\n",
       "    .dataframe tbody tr th {\n",
       "        vertical-align: top;\n",
       "    }\n",
       "\n",
       "    .dataframe thead th {\n",
       "        text-align: right;\n",
       "    }\n",
       "</style>\n",
       "<table border=\"1\" class=\"dataframe\">\n",
       "  <thead>\n",
       "    <tr style=\"text-align: right;\">\n",
       "      <th></th>\n",
       "      <th>name</th>\n",
       "      <th>sequence</th>\n",
       "      <th>adpred_preds</th>\n",
       "      <th>paddle_centers</th>\n",
       "      <th>paddle_preds</th>\n",
       "      <th>adhunter_centers</th>\n",
       "      <th>adhunter_preds</th>\n",
       "      <th>tada_centers</th>\n",
       "      <th>tada_preds</th>\n",
       "    </tr>\n",
       "  </thead>\n",
       "  <tbody>\n",
       "    <tr>\n",
       "      <th>0</th>\n",
       "      <td>test1</td>\n",
       "      <td>MSMFNALNSNIEGEQYEAEEHSRELQIEQSFNILQDALIDLKNKDF...</td>\n",
       "      <td>[0.004714516922831535, 0.00676755839958787, 0....</td>\n",
       "      <td>[27.0, 28.0, 29.0, 30.0, 31.0, 32.0, 33.0, 34....</td>\n",
       "      <td>[3.1349213, 3.1966941, 3.184685, 3.2871475, 3....</td>\n",
       "      <td>[20.0, 21.0, 22.0, 23.0, 24.0, 25.0, 26.0, 27....</td>\n",
       "      <td>[85377.72, 108036.945, 88091.68, 68351.03, 444...</td>\n",
       "      <td>[20.0, 21.0, 22.0, 23.0, 24.0, 25.0, 26.0, 27....</td>\n",
       "      <td>[0.5416591, 0.58181286, 0.53811306, 0.48759672...</td>\n",
       "    </tr>\n",
       "  </tbody>\n",
       "</table>\n",
       "</div>"
      ],
      "text/plain": [
       "    name                                           sequence  \\\n",
       "0  test1  MSMFNALNSNIEGEQYEAEEHSRELQIEQSFNILQDALIDLKNKDF...   \n",
       "\n",
       "                                        adpred_preds  \\\n",
       "0  [0.004714516922831535, 0.00676755839958787, 0....   \n",
       "\n",
       "                                      paddle_centers  \\\n",
       "0  [27.0, 28.0, 29.0, 30.0, 31.0, 32.0, 33.0, 34....   \n",
       "\n",
       "                                        paddle_preds  \\\n",
       "0  [3.1349213, 3.1966941, 3.184685, 3.2871475, 3....   \n",
       "\n",
       "                                    adhunter_centers  \\\n",
       "0  [20.0, 21.0, 22.0, 23.0, 24.0, 25.0, 26.0, 27....   \n",
       "\n",
       "                                      adhunter_preds  \\\n",
       "0  [85377.72, 108036.945, 88091.68, 68351.03, 444...   \n",
       "\n",
       "                                        tada_centers  \\\n",
       "0  [20.0, 21.0, 22.0, 23.0, 24.0, 25.0, 26.0, 27....   \n",
       "\n",
       "                                          tada_preds  \n",
       "0  [0.5416591, 0.58181286, 0.53811306, 0.48759672...  "
      ]
     },
     "execution_count": 22,
     "metadata": {},
     "output_type": "execute_result"
    }
   ],
   "source": [
    "test_all_predictor_preds = pd.read_csv(\"../output/test_long_TFs_all_predictors/all_predictor_preds.csv\",\n",
    "                                        converters = dict(adpred_preds=literal_eval,\n",
    "                                        paddle_centers=literal_eval,\n",
    "                                        paddle_preds=literal_eval,\n",
    "                                        adhunter_centers=literal_eval,\n",
    "                                        adhunter_preds=literal_eval,\n",
    "                                        tada_centers=literal_eval,\n",
    "                                        tada_preds=literal_eval),\n",
    "                                        index_col = 0)\n",
    "test_all_predictor_preds"
   ]
  },
  {
   "cell_type": "code",
   "execution_count": null,
   "id": "ec7ed554-9513-4db2-ba8a-2f406766fe33",
   "metadata": {},
   "outputs": [],
   "source": []
  }
 ],
 "metadata": {
  "kernelspec": {
   "display_name": "Python 3 (ipykernel)",
   "language": "python",
   "name": "python3"
  },
  "language_info": {
   "codemirror_mode": {
    "name": "ipython",
    "version": 3
   },
   "file_extension": ".py",
   "mimetype": "text/x-python",
   "name": "python",
   "nbconvert_exporter": "python",
   "pygments_lexer": "ipython3",
   "version": "3.11.7"
  }
 },
 "nbformat": 4,
 "nbformat_minor": 5
}
