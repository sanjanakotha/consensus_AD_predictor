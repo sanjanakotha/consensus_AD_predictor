{
 "cells": [
  {
   "cell_type": "code",
   "execution_count": null,
   "id": "d469c494-cae0-44d6-8834-c4bc2af21e83",
   "metadata": {},
   "outputs": [
    {
     "name": "stderr",
     "output_type": "stream",
     "text": [
      "Exception ignored in: <bound method IPythonKernel._clean_thread_parent_frames of <ipykernel.ipkernel.IPythonKernel object at 0x147e36f902e0>>\n",
      "Traceback (most recent call last):\n",
      "  File \"/global/scratch/projects/fc_mvslab/OpenProjects/Sanjana/conda/parrot/lib/python3.10/site-packages/ipykernel/ipkernel.py\", line 775, in _clean_thread_parent_frames\n",
      "    def _clean_thread_parent_frames(\n",
      "KeyboardInterrupt: \n"
     ]
    }
   ],
   "source": [
    "from parrot import py_predictor\n",
    "import numpy as np\n",
    "import seaborn as sns\n",
    "import matplotlib.pyplot as plt"
   ]
  },
  {
   "cell_type": "code",
   "execution_count": null,
   "id": "e1da5785-9918-4c46-9d3e-59642081313b",
   "metadata": {},
   "outputs": [],
   "source": [
    "seq = \"MAGRSWLIDSNRIATKIMSASASSDPRQVVWKSNPSRHCPKCQHVIDNSDVVDDWPGLPRGVKFDPSDPEIIWHLLAKSGLSGLSSHPFIDEFIPTVNQDDGICYTHPKNLPGVKSDGTVSHFFHKAIKAYSTGTRKRRKIHDDDFGDVRWHKTGRTKPVVLDGVQRGCKKIMVLYGGKAVKTNWVMHQYHLGIEEDEKEGDYVVSKIFYQQPQQLVVKRGDKAEQEVSEDIFAAVTPTADPVTPKLATPEPRNAVRICSDSHIASDYVTPSDYVSAHEVSLAETSEVMCMEDEVQSIQPNHERPSSGPELEHGLENGAKEMLDDKEEQEKDRDNENQGEEDPTWFDSGSQFILNSQQLVEALSLCDDLLGSQDREENTNSGSLKDKQPCIADYAHLGPEDFKRDLEECQKIVLDPSNIELDTPPEFRLSQLEFGSQDSFLAWGTGKTD\""
   ]
  },
  {
   "cell_type": "code",
   "execution_count": null,
   "id": "ca709eb8-852d-416d-8480-3583d7f6d701",
   "metadata": {},
   "outputs": [],
   "source": [
    "consensus_predictor = py_predictor.Predictor(\"../output/parrot_human_yeast_aggreg\", \n",
    "                                                dtype=\"residues\")\n"
   ]
  },
  {
   "cell_type": "code",
   "execution_count": null,
   "id": "ef0e38f4-5685-4483-a0aa-ad89a279b79c",
   "metadata": {},
   "outputs": [],
   "source": [
    "sns.lineplot(consensus_predictor.predict(seq))"
   ]
  },
  {
   "cell_type": "code",
   "execution_count": null,
   "id": "cf76022c-3518-4499-9109-a5f7624b2011",
   "metadata": {},
   "outputs": [],
   "source": []
  },
  {
   "cell_type": "code",
   "execution_count": null,
   "id": "86ed708f-c01e-437c-92e1-01c629471e34",
   "metadata": {},
   "outputs": [],
   "source": []
  },
  {
   "cell_type": "code",
   "execution_count": null,
   "id": "ccdbf8c1-2e19-4f87-991e-5e6cd213eba7",
   "metadata": {},
   "outputs": [],
   "source": []
  }
 ],
 "metadata": {
  "kernelspec": {
   "display_name": "parrot",
   "language": "python",
   "name": "parrot"
  },
  "language_info": {
   "codemirror_mode": {
    "name": "ipython",
    "version": 3
   },
   "file_extension": ".py",
   "mimetype": "text/x-python",
   "name": "python",
   "nbconvert_exporter": "python",
   "pygments_lexer": "ipython3",
   "version": "3.10.16"
  }
 },
 "nbformat": 4,
 "nbformat_minor": 5
}
