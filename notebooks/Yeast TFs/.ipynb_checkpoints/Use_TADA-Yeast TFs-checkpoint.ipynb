{
 "cells": [
  {
   "cell_type": "markdown",
   "metadata": {},
   "source": [
    "On the command line in Savio, please activate the conda environment and install the tada kernel as follows. This only needs to be done the very first time you use the notebook.\n",
    "\n",
    "`ml python/3.7; source activate /global/scratch/projects/fc_mvslab/conda/tada`\n",
    "\n",
    "`python -m ipykernel install --user --name=tada`\n",
    "\n",
    "Looking at the ribbon above, please click Kernel >> Change kernel >> tada.\n",
    "\n",
    "TADA can also be run from the command line instead of in this notebook as follows:<br>\n",
    "`ml python/3.7; source activate /global/scratch/projects/fc_mvslab/conda/tada`<br>\n",
    "`cd /global/scratch/projects/fc_mvslab/predictors/TADA`<br>\n",
    "`python src/Predict.py tmp_output/input.csv`<br>\n",
    "where input.csv is a csv file with columns: labels, sequences"
   ]
  },
  {
   "cell_type": "code",
   "execution_count": 9,
   "metadata": {},
   "outputs": [
    {
     "name": "stdout",
     "output_type": "stream",
     "text": [
      "The autoreload extension is already loaded. To reload it, use:\n",
      "  %reload_ext autoreload\n"
     ]
    }
   ],
   "source": [
    "%matplotlib inline\n",
    "%load_ext autoreload\n",
    "%autoreload 2"
   ]
  },
  {
   "cell_type": "code",
   "execution_count": 10,
   "metadata": {},
   "outputs": [],
   "source": [
    "# Load necessary modules\n",
    "import numpy as np\n",
    "import pandas as pd\n",
    "import tensorflow as tf\n",
    "import matplotlib\n",
    "matplotlib.rcParams['figure.dpi'] = 100\n",
    "matplotlib.rcParams['font.sans-serif'] = 'Arial'\n",
    "from matplotlib import pyplot as plt\n",
    "import matplotlib.backends.backend_pdf\n",
    "import seaborn as sns\n",
    "sns.set_style(\"white\")\n",
    "sns.set_context(\"notebook\")\n",
    "from Bio import SeqIO\n",
    "import glob, pickle, os, re, subprocess, csv, sys\n",
    "from uuid import uuid4\n",
    "import ipyparallel as ipp\n",
    "\n",
    "sys.path.append(os.path.abspath('..'))\n",
    "from TADA.src.Preprocessing import scale_features\n",
    "from TADA.src.Preprocessing import create_features\n",
    "from TADA.src.Predict_model_only import tada_predict\n",
    "\n",
    "# Set Numpy to display floats with 3 decimal places\n",
    "np.set_printoptions(formatter={'float': lambda x: \"{0:0.3f}\".format(x)})\n"
   ]
  },
  {
   "cell_type": "markdown",
   "metadata": {},
   "source": [
    "### To run the predictors on many sequences, please see the BATCH section below the first STOP\n",
    "### To run the predictor on a single sequence, please run all cells until you see the first STOP\n",
    "\n",
    "<br>\n",
    "\n",
    "Please delete/move files in tmp_output after you're done. Files in tmp_output should not be expected to stay there permanently."
   ]
  },
  {
   "cell_type": "code",
   "execution_count": 3,
   "metadata": {},
   "outputs": [
    {
     "name": "stdout",
     "output_type": "stream",
     "text": [
      "fe7388f4-8b91-4b6b-9c27-e9587dd3b9e8\n"
     ]
    }
   ],
   "source": [
    "# Input your single sequence here, or provide the path to a fasta file containing your sequence\n",
    "\n",
    "# INPUT PATH TO FASTA FILE HERE\n",
    "fasta_name = None\n",
    "# INPUT SEQUENCE HERE\n",
    "in_sequence = 'RLEQLFLLIFPREDLDMILKMDSLQDIKALLTGLFVQDNVNKDAVTDRLASVETDMPLTLRQHRISATSSSEESSNKGQRQLTVSIDSAAHHDNSTIPLDFMPRDALHGFDWSEEDDMSDGLPFLKTDPNNNGFFGDGSLLCILRSIGFKPENYTNSNVNRLPTMITDRYTLASRSTTSRLLQSYL'\n",
    "\n",
    "tmp_output = '/global/scratch/projects/fc_mvslab/predictors/TADA/tmp_output'\n",
    "\n",
    "if fasta_name is not None:\n",
    "    sequence = str(list(SeqIO.parse(fasta_name, 'fasta'))[0].seq)\n",
    "    fasta_name_tmp = fasta_name.split('/')[-1].strip('.fasta').strip('.fa')\n",
    "    output_dir = tmp_output + '/' + fasta_name_tmp\n",
    "    subprocess.run(['mkdir', output_dir])\n",
    "    subprocess.run(['cp', fasta_name, output_dir])\n",
    "    fasta_name = fasta_name_tmp\n",
    "else:\n",
    "    sequence = in_sequence\n",
    "    fasta_name = str(uuid4())\n",
    "    print(fasta_name)   # Name of subdirectory under tmp_output containing predictions, etc.\n",
    "    output_dir = tmp_output + '/' + fasta_name\n",
    "    subprocess.run(['mkdir', output_dir])\n",
    "    with open(output_dir + '/' + fasta_name + '.fasta', 'w') as fa:\n",
    "        fa.write(sequence)\n",
    "\n",
    "assert len(sequence) >= 40, 'Protein sequence must be at least 40 amino acids long'    \n",
    "\n",
    "aa_lst = ['A', 'R', 'N', 'D', 'C', 'Q', 'E', 'G', 'H', 'I', 'L', 'K', 'M', 'F', 'P', 'S', 'T', 'W', 'Y', 'V']\n",
    "assert len(set(sequence) - set(aa_lst)) == 0, 'No non-standard amino acids allowed'"
   ]
  },
  {
   "cell_type": "markdown",
   "metadata": {},
   "source": [
    "# TADA"
   ]
  },
  {
   "cell_type": "code",
   "execution_count": 4,
   "metadata": {},
   "outputs": [
    {
     "name": "stdout",
     "output_type": "stream",
     "text": [
      "0\n"
     ]
    }
   ],
   "source": [
    "# Chop sequence into 40-mer tiles\n",
    "seqs = np.array([sequence[i:i+40] for i in range(len(sequence)-39)], dtype=object)\n",
    "\n",
    "#Calculate features\n",
    "\n",
    "# Defines the sequence window size and steps (stride length). Change values if needed.\n",
    "SEQUENCE_WINDOW = 5\n",
    "STEPS = 1\n",
    "LENGTH = 40\n",
    "\n",
    "features = create_features(seqs, SEQUENCE_WINDOW, STEPS)\n",
    "features_scaled = scale_features(features)\n",
    "\n",
    "# Save the features\n",
    "pickle.dump(features_scaled, open(output_dir + '/features_scaled.pkl', 'wb'))"
   ]
  },
  {
   "cell_type": "code",
   "execution_count": 5,
   "metadata": {},
   "outputs": [
    {
     "name": "stdout",
     "output_type": "stream",
     "text": [
      "\u001b[2K\tModel created\n",
      "\u001b[2K\tWeights loaded\n",
      "Model: \"sequential\"\n",
      "_________________________________________________________________\n",
      " Layer (type)                Output Shape              Param #   \n",
      "=================================================================\n",
      " conv1d (Conv1D)             (None, 35, 100)           8500      \n",
      "                                                                 \n",
      " dropout (Dropout)           (None, 35, 100)           0         \n",
      "                                                                 \n",
      " conv1d_1 (Conv1D)           (None, 34, 100)           20100     \n",
      "                                                                 \n",
      " dropout_1 (Dropout)         (None, 34, 100)           0         \n",
      "                                                                 \n",
      " attention (attention)       (None, 34, 100)           134       \n",
      "                                                                 \n",
      " bidirectional (Bidirectiona  (None, 34, 200)          160800    \n",
      " l)                                                              \n",
      "                                                                 \n",
      " bidirectional_1 (Bidirectio  (None, 200)              240800    \n",
      " nal)                                                            \n",
      "                                                                 \n",
      " dense (Dense)               (None, 2)                 402       \n",
      "                                                                 \n",
      "=================================================================\n",
      "Total params: 430,736\n",
      "Trainable params: 430,736\n",
      "Non-trainable params: 0\n",
      "_________________________________________________________________\n",
      "Model summary: None\n",
      "5/5 [==============================] - 8s 46ms/step\n"
     ]
    }
   ],
   "source": [
    "# Make TADA classification predictions\n",
    "tada_preds = tada_predict(output_dir + '/features_scaled.pkl')\n",
    "tada_centers = np.arange(len(tada_preds)) + 40/2"
   ]
  },
  {
   "cell_type": "markdown",
   "metadata": {},
   "source": [
    "# Traces and Prediction values"
   ]
  },
  {
   "cell_type": "markdown",
   "metadata": {},
   "source": [
    "TADA predicts on 40-residue tiles of the provided sequence and outputs one activity score per tile. A score above 0.5 indicates the tile is likely to be an AD."
   ]
  },
  {
   "cell_type": "code",
   "execution_count": 6,
   "metadata": {},
   "outputs": [
    {
     "data": {
      "image/png": "[encoded data removed]",
      "text/plain": [
       "<Figure size 1000x500 with 2 Axes>"
      ]
     },
     "metadata": {},
     "output_type": "display_data"
    }
   ],
   "source": [
    "pdf = matplotlib.backends.backend_pdf.PdfPages(output_dir + \"/TADA_trace.pdf\")\n",
    "\n",
    "fig, ax = plt.subplots(figsize=(10,5))\n",
    "\n",
    "# Plot activity trace and activity threshold\n",
    "ax.plot(tada_centers, tada_preds, c='red', label='TADA')\n",
    "ax.plot([0, len(sequence)-1], [.5, .5], '-', c='red')\n",
    "\n",
    "ax.set_title(fasta_name)\n",
    "ax.legend()\n",
    "ax.margins(x=0)\n",
    "\n",
    "ax.set_xlabel('Center position of tile')\n",
    "ax.set_ylabel('Activity scores, normalized')\n",
    "\n",
    "# Plot protein sequence on a secondary x-axis\n",
    "# Comment out this block of code if it looks too messy for you\n",
    "ax2 = ax.twiny()\n",
    "ax2.set_xticks(np.arange(len(sequence)))\n",
    "ax2.set_xticklabels([aa for aa in sequence], fontsize=3)\n",
    "\n",
    "pdf.savefig()\n",
    "plt.show()\n",
    "pdf.close()"
   ]
  },
  {
   "cell_type": "code",
   "execution_count": 7,
   "metadata": {},
   "outputs": [],
   "source": [
    "# Save predicted values to a csv file\n",
    "with open(output_dir + '/TADA_preds.csv', 'w') as f:\n",
    "    w = csv.writer(f)\n",
    "    w.writerow(['sequence', 'tada_centers', 'tada_preds'])\n",
    "    w.writerow([sequence, tada_centers.tolist(), tada_preds.tolist()])"
   ]
  },
  {
   "cell_type": "code",
   "execution_count": 8,
   "metadata": {},
   "outputs": [
    {
     "data": {
      "text/html": [
       "<div>\n",
       "<style scoped>\n",
       "    .dataframe tbody tr th:only-of-type {\n",
       "        vertical-align: middle;\n",
       "    }\n",
       "\n",
       "    .dataframe tbody tr th {\n",
       "        vertical-align: top;\n",
       "    }\n",
       "\n",
       "    .dataframe thead th {\n",
       "        text-align: right;\n",
       "    }\n",
       "</style>\n",
       "<table border=\"1\" class=\"dataframe\">\n",
       "  <thead>\n",
       "    <tr style=\"text-align: right;\">\n",
       "      <th></th>\n",
       "      <th>sequence</th>\n",
       "      <th>tada_centers</th>\n",
       "      <th>tada_preds</th>\n",
       "    </tr>\n",
       "  </thead>\n",
       "  <tbody>\n",
       "    <tr>\n",
       "      <th>0</th>\n",
       "      <td>RLEQLFLLIFPREDLDMILKMDSLQDIKALLTGLFVQDNVNKDAVT...</td>\n",
       "      <td>[20.0, 21.0, 22.0, 23.0, 24.0, 25.0, 26.0, 27....</td>\n",
       "      <td>[0.2035195231437683, 0.20153775811195374, 0.19...</td>\n",
       "    </tr>\n",
       "  </tbody>\n",
       "</table>\n",
       "</div>"
      ],
      "text/plain": [
       "                                            sequence   \n",
       "0  RLEQLFLLIFPREDLDMILKMDSLQDIKALLTGLFVQDNVNKDAVT...  \\\n",
       "\n",
       "                                        tada_centers   \n",
       "0  [20.0, 21.0, 22.0, 23.0, 24.0, 25.0, 26.0, 27....  \\\n",
       "\n",
       "                                          tada_preds  \n",
       "0  [0.2035195231437683, 0.20153775811195374, 0.19...  "
      ]
     },
     "execution_count": 8,
     "metadata": {},
     "output_type": "execute_result"
    }
   ],
   "source": [
    "pd.read_csv(output_dir + '/TADA_preds.csv', converters={'tada_centers':pd.eval, 'tada_preds':pd.eval})"
   ]
  },
  {
   "cell_type": "markdown",
   "metadata": {},
   "source": [
    "# STOP"
   ]
  },
  {
   "cell_type": "markdown",
   "metadata": {},
   "source": [
    "# BATCH mode begins here"
   ]
  },
  {
   "cell_type": "markdown",
   "metadata": {},
   "source": [
    "Please delete/move files in tmp_output after you're done. Files in tmp_output should not be expected to stay there permanently."
   ]
  },
  {
   "cell_type": "code",
   "execution_count": 11,
   "metadata": {},
   "outputs": [
    {
     "name": "stderr",
     "output_type": "stream",
     "text": [
      "mkdir: cannot create directory '/global/scratch/projects/fc_mvslab/predictors/TADA/tmp_output/LambertTF': File exists\n"
     ]
    }
   ],
   "source": [
    "# Provide the path to a fasta file containing your sequences\n",
    "\n",
    "# INPUT PATH TO FASTA FILE HERE\n",
    "fasta_name = '/global/scratch/projects/fc_mvslab/OpenProjects/Sanjana/TADA/LambertTFs.fasta'\n",
    "\n",
    "tmp_output = '/global/scratch/projects/fc_mvslab/predictors/TADA/tmp_output'\n",
    "\n",
    "aa_lst = ['A', 'R', 'N', 'D', 'C', 'Q', 'E', 'G', 'H', 'I', 'L', 'K', 'M', 'F', 'P', 'S', 'T', 'W', 'Y', 'V']\n",
    "\n",
    "# Set up SeqRecord objects and check that sequences are valid\n",
    "fasta_name_tmp = fasta_name.split('/')[-1].strip('.fasta').strip('.fa')\n",
    "output_dir = tmp_output + '/' + fasta_name_tmp\n",
    "subprocess.run(['mkdir', output_dir])\n",
    "recs = list(SeqIO.parse(fasta_name, 'fasta'))\n",
    "fasta_name = fasta_name_tmp\n",
    "for r in recs:\n",
    "    sequence = str(r.seq)\n",
    "    assert len(sequence) >= 40, 'Protein sequence must be at least 40 amino acids long' \n",
    "    assert len(set(sequence) - set(aa_lst)) == 0, 'No non-standard amino acids allowed'"
   ]
  },
  {
   "cell_type": "markdown",
   "metadata": {},
   "source": [
    "# TADA"
   ]
  },
  {
   "cell_type": "markdown",
   "metadata": {},
   "source": [
    "The slowest component of running TADA is feature generation. It does not parallelize well and needs to be run single-threaded."
   ]
  },
  {
   "cell_type": "code",
   "execution_count": 20,
   "metadata": {},
   "outputs": [
    {
     "name": "stdout",
     "output_type": "stream",
     "text": [
      "CPU times: user 221 ms, sys: 34 ms, total: 255 ms\n",
      "Wall time: 256 ms\n"
     ]
    }
   ],
   "source": [
    "%%time\n",
    "\n",
    "# Defines the sequence window size and steps (stride length). Change values if needed.\n",
    "SEQUENCE_WINDOW = 5\n",
    "STEPS = 1\n",
    "LENGTH = 40\n",
    "\n",
    "seqs_40 = []\n",
    "seqs_idx = 0\n",
    "tada_out = dict()\n",
    "\n",
    "#Iterate through all sequences\n",
    "for r in recs:\n",
    "    seq = str(r.seq)\n",
    "    \n",
    "    # Chop sequence into 40-mer tiles\n",
    "    seqs = np.array([seq[i:i+40] for i in range(len(seq)-39)], dtype=object)\n",
    "    seqs_40.append(seqs)\n",
    "    \n",
    "    # Record indices of tiles corresponding to the sequence\n",
    "    tada_out[seq] = np.arange(seqs_idx, seqs_idx+len(seqs))\n",
    "    seqs_idx += len(seqs)\n",
    "\n",
    "# Flatten list of 40-mer tiles\n",
    "seqs_40 = np.concatenate(seqs_40)\n",
    "\n",
    "assert seqs_idx == len(seqs_40)\n",
    "\n",
    "# #Calculate features on 40-mer tiles\n",
    "# features = create_features(seqs_40, SEQUENCE_WINDOW, STEPS)\n",
    "# features_scaled = scale_features(features)\n",
    "# pickle.dump(features_scaled, open(output_dir + '/features_scaled.pkl', 'wb'))\n",
    "    \n",
    "# # Make TADA classification predictions\n",
    "# tada_preds = tada_predict(loaded_features=features_scaled)\n",
    "\n",
    "# # Use indices of tiles to retrieve predictions for each sequence\n",
    "# for seq, val in tada_out.items():\n",
    "#     preds = tada_preds[val]\n",
    "#     centers = np.arange(len(preds)) + 40/2\n",
    "#     tada_out[seq] = (centers, preds)\n",
    "\n",
    "# subprocess.run(['rm', 'scaler_minmax_features.pkl'])\n",
    "# subprocess.run(['rm', 'scaler_normal_features.pkl'])"
   ]
  },
  {
   "cell_type": "code",
   "execution_count": 26,
   "metadata": {},
   "outputs": [
    {
     "data": {
      "text/plain": [
       "879736"
      ]
     },
     "execution_count": 26,
     "metadata": {},
     "output_type": "execute_result"
    }
   ],
   "source": [
    "len(seqs_40)"
   ]
  },
  {
   "cell_type": "code",
   "execution_count": 28,
   "metadata": {},
   "outputs": [],
   "source": [
    "input_df = pd.DataFrame({\"labels\" : seqs_40,\n",
    "                        \"sequences\" : seqs_40})\n",
    "input_df.to_csv(\"../../OpenProjects/Sanjana/TADA/Lambert_seqs_40.csv\")"
   ]
  },
  {
   "cell_type": "code",
   "execution_count": null,
   "metadata": {},
   "outputs": [],
   "source": []
  },
  {
   "cell_type": "code",
   "execution_count": null,
   "metadata": {},
   "outputs": [],
   "source": []
  },
  {
   "cell_type": "code",
   "execution_count": null,
   "metadata": {},
   "outputs": [],
   "source": []
  },
  {
   "cell_type": "code",
   "execution_count": null,
   "metadata": {},
   "outputs": [],
   "source": []
  },
  {
   "cell_type": "markdown",
   "metadata": {},
   "source": [
    "# Traces and Prediction values"
   ]
  },
  {
   "cell_type": "markdown",
   "metadata": {},
   "source": [
    "TADA predicts on 40-residue tiles of the provided sequence and outputs one activity score per tile. A score above 0.5 indicates the tile is likely to be an AD."
   ]
  },
  {
   "cell_type": "code",
   "execution_count": 13,
   "metadata": {},
   "outputs": [
    {
     "ename": "ValueError",
     "evalue": "too many values to unpack (expected 2)",
     "output_type": "error",
     "traceback": [
      "\u001b[0;31m---------------------------------------------------------------------------\u001b[0m",
      "\u001b[0;31mValueError\u001b[0m                                Traceback (most recent call last)",
      "Input \u001b[0;32mIn [13]\u001b[0m, in \u001b[0;36m<cell line: 3>\u001b[0;34m()\u001b[0m\n\u001b[1;32m      3\u001b[0m \u001b[38;5;28;01mfor\u001b[39;00m r \u001b[38;5;129;01min\u001b[39;00m recs:\n\u001b[1;32m      4\u001b[0m     sequence \u001b[38;5;241m=\u001b[39m \u001b[38;5;28mstr\u001b[39m(r\u001b[38;5;241m.\u001b[39mseq)\n\u001b[0;32m----> 5\u001b[0m     tada_centers, tada_preds \u001b[38;5;241m=\u001b[39m tada_out[sequence]\n\u001b[1;32m      7\u001b[0m     fig, ax \u001b[38;5;241m=\u001b[39m plt\u001b[38;5;241m.\u001b[39msubplots(figsize\u001b[38;5;241m=\u001b[39m(\u001b[38;5;241m10\u001b[39m,\u001b[38;5;241m5\u001b[39m))\n\u001b[1;32m      9\u001b[0m     \u001b[38;5;66;03m# Plot activity trace and activity threshold\u001b[39;00m\n",
      "\u001b[0;31mValueError\u001b[0m: too many values to unpack (expected 2)"
     ]
    }
   ],
   "source": [
    "pdf = matplotlib.backends.backend_pdf.PdfPages(output_dir + \"/TADA_traces.pdf\")\n",
    "\n",
    "for r in recs:\n",
    "    sequence = str(r.seq)\n",
    "    tada_centers, tada_preds = tada_out[sequence]\n",
    "\n",
    "    fig, ax = plt.subplots(figsize=(10,5))\n",
    "\n",
    "    # Plot activity trace and activity threshold\n",
    "    ax.plot(tada_centers, tada_preds, c='red', label='TADA')\n",
    "    ax.plot([0, len(sequence)-1], [.5, .5], '-', c='red')\n",
    "\n",
    "    ax.set_title(r.id)\n",
    "    ax.legend()\n",
    "    ax.margins(x=0)\n",
    "\n",
    "    ax.set_xlabel('Center position of tile')\n",
    "    ax.set_ylabel('Activity scores, normalized')\n",
    "\n",
    "    # Plot protein sequence on a secondary x-axis\n",
    "    # Comment out this block of code if it looks too messy for you\n",
    "    ax2 = ax.twiny()\n",
    "    ax2.set_xticks(np.arange(len(sequence)))\n",
    "    ax2.set_xticklabels([aa for aa in sequence], fontsize=3)\n",
    "\n",
    "    pdf.savefig()\n",
    "    plt.show()\n",
    "    \n",
    "pdf.close()"
   ]
  },
  {
   "cell_type": "code",
   "execution_count": null,
   "metadata": {},
   "outputs": [],
   "source": [
    "# Save predicted values to a csv file\n",
    "with open(output_dir + '/TADA_preds.csv', 'w') as f:\n",
    "    w = csv.writer(f)\n",
    "    w.writerow(['sequence', 'tada_centers', 'tada_preds'])\n",
    "    for r in recs:\n",
    "        sequence = str(r.seq)\n",
    "        tada_centers, tada_preds = tada_out[sequence]\n",
    "        tada_preds = re.sub(r'\\s+', ',', str(tada_preds))\n",
    "        tada_centers = re.sub(r'\\s+', ',', str(tada_centers))\n",
    "        w.writerow([sequence, tada_centers, tada_preds])"
   ]
  },
  {
   "cell_type": "code",
   "execution_count": null,
   "metadata": {},
   "outputs": [],
   "source": [
    "pd.read_csv(output_dir + '/TADA_preds.csv', converters={'tada_centers':pd.eval, 'tada_preds':pd.eval})"
   ]
  },
  {
   "cell_type": "markdown",
   "metadata": {},
   "source": [
    "# STOP"
   ]
  },
  {
   "cell_type": "code",
   "execution_count": null,
   "metadata": {},
   "outputs": [],
   "source": []
  }
 ],
 "metadata": {
  "hide_input": false,
  "kernelspec": {
   "display_name": "tada",
   "language": "python",
   "name": "tada"
  },
  "language_info": {
   "codemirror_mode": {
    "name": "ipython",
    "version": 3
   },
   "file_extension": ".py",
   "mimetype": "text/x-python",
   "name": "python",
   "nbconvert_exporter": "python",
   "pygments_lexer": "ipython3",
   "version": "3.10.8"
  },
  "toc": {
   "base_numbering": 1,
   "nav_menu": {},
   "number_sections": true,
   "sideBar": true,
   "skip_h1_title": false,
   "title_cell": "Table of Contents",
   "title_sidebar": "Contents",
   "toc_cell": false,
   "toc_position": {},
   "toc_section_display": true,
   "toc_window_display": false
  }
 },
 "nbformat": 4,
 "nbformat_minor": 4
}
