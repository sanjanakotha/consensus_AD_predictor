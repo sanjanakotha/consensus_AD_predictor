{
 "cells": [
  {
   "cell_type": "code",
   "execution_count": 1,
   "id": "5616e56b-3e68-43de-9d72-6dd555c2f60e",
   "metadata": {},
   "outputs": [],
   "source": [
    "import pandas as pd\n",
    "import protfasta\n",
    "import glob"
   ]
  },
  {
   "cell_type": "markdown",
   "id": "c0b925c5-2975-4568-9854-ebfc81c2b557",
   "metadata": {},
   "source": [
    "# Preparing input script"
   ]
  },
  {
   "cell_type": "code",
   "execution_count": 13,
   "id": "f50d1e23-661d-4544-860d-21b119fce535",
   "metadata": {},
   "outputs": [
    {
     "data": {
      "text/plain": [
       "0     IPR013087\n",
       "2     IPR001356\n",
       "3     IPR011598\n",
       "4     IPR004827\n",
       "5     IPR001766\n",
       "6     IPR000536\n",
       "7     IPR009071\n",
       "8     IPR000418\n",
       "9     IPR046360\n",
       "10    IPR017956\n",
       "11    IPR000327\n",
       "12    IPR024752\n",
       "13    IPR006612\n",
       "14    IPR006600\n",
       "15    IPR036388\n",
       "16    IPR003656\n",
       "17    IPR000679\n",
       "18    IPR011539\n",
       "19    IPR001132\n",
       "20    IPR000770\n",
       "21    IPR002857\n",
       "22    IPR001346\n",
       "23    IPR001739\n",
       "24    IPR003150\n",
       "25    IPR000232\n",
       "26    IPR001275\n",
       "27    IPR003350\n",
       "28    IPR013801\n",
       "29    IPR001606\n",
       "30    IPR057520\n",
       "31    IPR002100\n",
       "32    IPR011129\n",
       "33    IPR013854\n",
       "34    IPR000818\n",
       "35    IPR003690\n",
       "36    IPR032200\n",
       "37    IPR001523\n",
       "38    IPR004212\n",
       "39    IPR041686\n",
       "40    IPR006578\n",
       "41    IPR012295\n",
       "42    IPR011615\n",
       "43    IPR013524\n",
       "44    IPR015351\n",
       "45    IPR007889\n",
       "46    IPR023082\n",
       "47       Q12986\n",
       "48    IPR024061\n",
       "49    IPR003902\n",
       "50    IPR005559\n",
       "51    IPR033467\n",
       "52    IPR018586\n",
       "53    IPR003958\n",
       "54    IPR007588\n",
       "Name: Interpro domain code, dtype: object"
      ]
     },
     "execution_count": 13,
     "metadata": {},
     "output_type": "execute_result"
    }
   ],
   "source": [
    "interpro = pd.read_csv(\"../data/interpro_tf_doms_7-21-25.csv\")\n",
    "interpro_codes = interpro[\"Interpro domain code\"].str.strip().drop_duplicates()\n",
    "interpro_codes"
   ]
  },
  {
   "cell_type": "code",
   "execution_count": 8,
   "id": "eccf92c3-c848-489b-8fdf-5447d78e9634",
   "metadata": {},
   "outputs": [
    {
     "name": "stdout",
     "output_type": "stream",
     "text": [
      "python3 script-InterPro-parallelized.py IPR013087 IPR001356 IPR011598 IPR004827 IPR001766 IPR000536 IPR009071 IPR000418 IPR046360 IPR017956 IPR000327 IPR024752 IPR006612 IPR006600 IPR036388 IPR003656 IPR000679 IPR011539 IPR001132 IPR000770 IPR002857 IPR001346 IPR001739 IPR003150 IPR000232 IPR001275 IPR003350 IPR013801 IPR001606 IPR057520 IPR002100 IPR011129 IPR013854 IPR000818 IPR003690 IPR032200 IPR001523 IPR004212 IPR041686 IPR006578 IPR012295 IPR011615 IPR013524 IPR015351 IPR007889 IPR023082 Q12986 IPR024061 IPR003902 IPR005559 IPR033467 IPR018586 IPR003958 IPR007588\n"
     ]
    }
   ],
   "source": [
    "# Ran from scripts folder\n",
    "print(\"python3 script-InterPro-parallelized.py \" + \" \".join(interpro_codes))"
   ]
  },
  {
   "cell_type": "code",
   "execution_count": 9,
   "id": "f9e83ea0-c9e8-4843-b3e9-2436db0324ef",
   "metadata": {},
   "outputs": [
    {
     "data": {
      "text/plain": [
       "54"
      ]
     },
     "execution_count": 9,
     "metadata": {},
     "output_type": "execute_result"
    }
   ],
   "source": [
    "len(interpro_codes)"
   ]
  },
  {
   "cell_type": "code",
   "execution_count": 3,
   "id": "2464ef8c-c7aa-46bc-aa18-6b753bd1c899",
   "metadata": {},
   "outputs": [],
   "source": [
    "# IPR000967 instead of Q12986\n",
    "# So ran script-INterPro-modified to get fasta"
   ]
  },
  {
   "cell_type": "markdown",
   "id": "c0f3f808-62cd-43ee-9fbe-a69419fe3089",
   "metadata": {},
   "source": [
    "# How many input sequences?"
   ]
  },
  {
   "cell_type": "code",
   "execution_count": 16,
   "id": "fc18adda-8dc4-47fb-896d-9d9347488c0b",
   "metadata": {},
   "outputs": [
    {
     "data": {
      "text/html": [
       "<div>\n",
       "<style scoped>\n",
       "    .dataframe tbody tr th:only-of-type {\n",
       "        vertical-align: middle;\n",
       "    }\n",
       "\n",
       "    .dataframe tbody tr th {\n",
       "        vertical-align: top;\n",
       "    }\n",
       "\n",
       "    .dataframe thead th {\n",
       "        text-align: right;\n",
       "    }\n",
       "</style>\n",
       "<table border=\"1\" class=\"dataframe\">\n",
       "  <thead>\n",
       "    <tr style=\"text-align: right;\">\n",
       "      <th></th>\n",
       "      <th>path</th>\n",
       "      <th>id</th>\n",
       "      <th>seq</th>\n",
       "      <th>Interpro domain code</th>\n",
       "    </tr>\n",
       "  </thead>\n",
       "  <tbody>\n",
       "    <tr>\n",
       "      <th>0</th>\n",
       "      <td>../output/interpro/IPR000327.fasta</td>\n",
       "      <td>A0A1L8FFY5|IPR000327(161...235)|POU domain, cl...</td>\n",
       "      <td>MTREPDSTVEQQHGNGHLENGTEQDTLDFSRQIKTEDLSEALQTGI...</td>\n",
       "      <td>IPR000327</td>\n",
       "    </tr>\n",
       "    <tr>\n",
       "      <th>1</th>\n",
       "      <td>../output/interpro/IPR000327.fasta</td>\n",
       "      <td>A1L0Z1|IPR000327(185...259)|POU domain, class ...</td>\n",
       "      <td>MATAASNPYSILSSSSLVHDSAIMQQGSPFRNPQKLLQSDYLQGVP...</td>\n",
       "      <td>IPR000327</td>\n",
       "    </tr>\n",
       "    <tr>\n",
       "      <th>2</th>\n",
       "      <td>../output/interpro/IPR000327.fasta</td>\n",
       "      <td>A7Y7W2|IPR000327(170...244)|POU domain, class ...</td>\n",
       "      <td>MFSPDGGLPAAPFGLLPDGGPPFPRGGYDGAAAQQLFFPFASEPDG...</td>\n",
       "      <td>IPR000327</td>\n",
       "    </tr>\n",
       "    <tr>\n",
       "      <th>3</th>\n",
       "      <td>../output/interpro/IPR000327.fasta</td>\n",
       "      <td>B3DM23|IPR000327(207...281)|POU domain, class ...</td>\n",
       "      <td>MDQPVLYNQPAFPNFSYSPGLGQEGGNYQYLGNYNAPSYPQPFFHV...</td>\n",
       "      <td>IPR000327</td>\n",
       "    </tr>\n",
       "    <tr>\n",
       "      <th>4</th>\n",
       "      <td>../output/interpro/IPR000327.fasta</td>\n",
       "      <td>B3DM25|IPR000327(232...306)|POU domain, class ...</td>\n",
       "      <td>MYSQQPFPPFAFNAGLIQDPANCHFGGYTGLGHPQPFSFAFSTLKS...</td>\n",
       "      <td>IPR000327</td>\n",
       "    </tr>\n",
       "    <tr>\n",
       "      <th>...</th>\n",
       "      <td>...</td>\n",
       "      <td>...</td>\n",
       "      <td>...</td>\n",
       "      <td>...</td>\n",
       "    </tr>\n",
       "    <tr>\n",
       "      <th>26</th>\n",
       "      <td>../output/interpro/IPR006600.fasta</td>\n",
       "      <td>Q8BZH4|IPR006600(1011...1081)|Pogo transposabl...</td>\n",
       "      <td>MADTDLFMECEEEELEPWQKISDVIEDSVVEDYNSVDKTTSVSVSQ...</td>\n",
       "      <td>IPR006600</td>\n",
       "    </tr>\n",
       "    <tr>\n",
       "      <th>27</th>\n",
       "      <td>../output/interpro/IPR006600.fasta</td>\n",
       "      <td>Q8IY51|IPR006600(75...146)|Tigger transposable...</td>\n",
       "      <td>MAEASVDASTLPVTVKKKKSLSIEEKIDIINAVESGKKKAEIAAEY...</td>\n",
       "      <td>IPR006600</td>\n",
       "    </tr>\n",
       "    <tr>\n",
       "      <th>28</th>\n",
       "      <td>../output/interpro/IPR006600.fasta</td>\n",
       "      <td>Q96MW7|IPR006600(70...149)|Tigger transposable...</td>\n",
       "      <td>MASKCSSERKSRTSLTLNQKLEMIKLSEEGMSKAEIGRRLGLLRQT...</td>\n",
       "      <td>IPR006600</td>\n",
       "    </tr>\n",
       "    <tr>\n",
       "      <th>29</th>\n",
       "      <td>../output/interpro/IPR006600.fasta</td>\n",
       "      <td>Q9P215|IPR006600(250...323)|Pogo transposable ...</td>\n",
       "      <td>MESTAYPLNLSLKEEEEEEEIQSRELEDGPADMQKVRICSEGGWVP...</td>\n",
       "      <td>IPR006600</td>\n",
       "    </tr>\n",
       "    <tr>\n",
       "      <th>30</th>\n",
       "      <td>../output/interpro/IPR006600.fasta</td>\n",
       "      <td>Q9Y4A0|IPR006600(67...139)|Jerky protein homol...</td>\n",
       "      <td>MSGKRKRVVLTIKDKLDIIKKLEDGGSSKQLAVIYGIGETTVRDIR...</td>\n",
       "      <td>IPR006600</td>\n",
       "    </tr>\n",
       "  </tbody>\n",
       "</table>\n",
       "<p>14493 rows × 4 columns</p>\n",
       "</div>"
      ],
      "text/plain": [
       "                                  path  \\\n",
       "0   ../output/interpro/IPR000327.fasta   \n",
       "1   ../output/interpro/IPR000327.fasta   \n",
       "2   ../output/interpro/IPR000327.fasta   \n",
       "3   ../output/interpro/IPR000327.fasta   \n",
       "4   ../output/interpro/IPR000327.fasta   \n",
       "..                                 ...   \n",
       "26  ../output/interpro/IPR006600.fasta   \n",
       "27  ../output/interpro/IPR006600.fasta   \n",
       "28  ../output/interpro/IPR006600.fasta   \n",
       "29  ../output/interpro/IPR006600.fasta   \n",
       "30  ../output/interpro/IPR006600.fasta   \n",
       "\n",
       "                                                   id  \\\n",
       "0   A0A1L8FFY5|IPR000327(161...235)|POU domain, cl...   \n",
       "1   A1L0Z1|IPR000327(185...259)|POU domain, class ...   \n",
       "2   A7Y7W2|IPR000327(170...244)|POU domain, class ...   \n",
       "3   B3DM23|IPR000327(207...281)|POU domain, class ...   \n",
       "4   B3DM25|IPR000327(232...306)|POU domain, class ...   \n",
       "..                                                ...   \n",
       "26  Q8BZH4|IPR006600(1011...1081)|Pogo transposabl...   \n",
       "27  Q8IY51|IPR006600(75...146)|Tigger transposable...   \n",
       "28  Q96MW7|IPR006600(70...149)|Tigger transposable...   \n",
       "29  Q9P215|IPR006600(250...323)|Pogo transposable ...   \n",
       "30  Q9Y4A0|IPR006600(67...139)|Jerky protein homol...   \n",
       "\n",
       "                                                  seq Interpro domain code  \n",
       "0   MTREPDSTVEQQHGNGHLENGTEQDTLDFSRQIKTEDLSEALQTGI...            IPR000327  \n",
       "1   MATAASNPYSILSSSSLVHDSAIMQQGSPFRNPQKLLQSDYLQGVP...            IPR000327  \n",
       "2   MFSPDGGLPAAPFGLLPDGGPPFPRGGYDGAAAQQLFFPFASEPDG...            IPR000327  \n",
       "3   MDQPVLYNQPAFPNFSYSPGLGQEGGNYQYLGNYNAPSYPQPFFHV...            IPR000327  \n",
       "4   MYSQQPFPPFAFNAGLIQDPANCHFGGYTGLGHPQPFSFAFSTLKS...            IPR000327  \n",
       "..                                                ...                  ...  \n",
       "26  MADTDLFMECEEEELEPWQKISDVIEDSVVEDYNSVDKTTSVSVSQ...            IPR006600  \n",
       "27  MAEASVDASTLPVTVKKKKSLSIEEKIDIINAVESGKKKAEIAAEY...            IPR006600  \n",
       "28  MASKCSSERKSRTSLTLNQKLEMIKLSEEGMSKAEIGRRLGLLRQT...            IPR006600  \n",
       "29  MESTAYPLNLSLKEEEEEEEIQSRELEDGPADMQKVRICSEGGWVP...            IPR006600  \n",
       "30  MSGKRKRVVLTIKDKLDIIKKLEDGGSSKQLAVIYGIGETTVRDIR...            IPR006600  \n",
       "\n",
       "[14493 rows x 4 columns]"
      ]
     },
     "execution_count": 16,
     "metadata": {},
     "output_type": "execute_result"
    }
   ],
   "source": [
    "all_dfs = []\n",
    "\n",
    "for path in glob.glob(\"../output/interpro/*\"):\n",
    "    fasta_dict = protfasta.read_fasta(path, invalid_sequence_action = 'remove')\n",
    "    path_df = pd.DataFrame({\"path\" : path, \"id\" : fasta_dict.keys(), \"seq\" : fasta_dict.values()})\n",
    "    all_dfs.append(path_df)\n",
    "\n",
    "all_dfs = pd.concat(all_dfs)\n",
    "all_dfs[\"Interpro domain code\"] = all_dfs[\"path\"].str.split(\"/\").str[-1].str.split(\".\").str[0]\n",
    "all_dfs"
   ]
  },
  {
   "cell_type": "code",
   "execution_count": 19,
   "id": "44e373ef-f501-4798-bbde-f5e16c029d2c",
   "metadata": {},
   "outputs": [],
   "source": [
    "import seaborn as sns"
   ]
  },
  {
   "cell_type": "code",
   "execution_count": 20,
   "id": "0f6d7886-0392-4588-ba52-b3fdee1a0518",
   "metadata": {},
   "outputs": [
    {
     "data": {
      "text/plain": [
       "<Axes: xlabel='Interpro domain code', ylabel='count'>"
      ]
     },
     "execution_count": 20,
     "metadata": {},
     "output_type": "execute_result"
    },
    {
     "data": {
      "image/png": "[encoded data removed]",
      "text/plain": [
       "<Figure size 640x480 with 1 Axes>"
      ]
     },
     "metadata": {},
     "output_type": "display_data"
    }
   ],
   "source": [
    "sns.barplot(pd.merge(all_dfs, interpro_codes, on = \"Interpro domain code\")[\"Interpro domain code\"].value_counts())"
   ]
  },
  {
   "cell_type": "code",
   "execution_count": null,
   "id": "1b1c3ee1-84ed-48e6-b017-7eada885d9d0",
   "metadata": {},
   "outputs": [],
   "source": [
    "# Fix the one wrong entry"
   ]
  }
 ],
 "metadata": {
  "kernelspec": {
   "display_name": "parrot",
   "language": "python",
   "name": "parrot"
  },
  "language_info": {
   "codemirror_mode": {
    "name": "ipython",
    "version": 3
   },
   "file_extension": ".py",
   "mimetype": "text/x-python",
   "name": "python",
   "nbconvert_exporter": "python",
   "pygments_lexer": "ipython3",
   "version": "3.10.16"
  }
 },
 "nbformat": 4,
 "nbformat_minor": 5
}
