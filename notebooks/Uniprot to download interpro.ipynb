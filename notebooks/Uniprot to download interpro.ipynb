{
 "cells": [
  {
   "cell_type": "code",
   "execution_count": 1,
   "id": "7bd2c59d-3424-4f36-bd6b-a6589afd2d6b",
   "metadata": {},
   "outputs": [],
   "source": [
    "import pandas as pd"
   ]
  },
  {
   "cell_type": "code",
   "execution_count": 2,
   "id": "4502628f-b500-4485-8ba9-ae5a56616f19",
   "metadata": {},
   "outputs": [
    {
     "name": "stdout",
     "output_type": "stream",
     "text": [
      "Downloading for IPR003958...\n",
      "Saved to ../output/interpro/uniprot/IPR003958.fasta.gz\n"
     ]
    }
   ],
   "source": [
    "import os\n",
    "import time\n",
    "import urllib.parse\n",
    "import urllib.request\n",
    "\n",
    "# List of IPR IDs to query\n",
    "ipr_ids = [\"IPR003958\"]  # Replace/add your IPR IDs here\n",
    "\n",
    "# Base URL\n",
    "base_url = \"https://rest.uniprot.org/uniprotkb/stream\"\n",
    "\n",
    "# Download directory\n",
    "os.makedirs(\"../output/interpro/uniprot/\", exist_ok=True)\n",
    "\n",
    "# Loop through each IPR ID\n",
    "for ipr_id in ipr_ids:\n",
    "    # Create query string\n",
    "    query = f\"({ipr_id}) AND (annotation_score:5)\"\n",
    "    encoded_query = urllib.parse.quote(query)\n",
    "\n",
    "    # Build full URL\n",
    "    full_url = f\"{base_url}?compressed=true&format=fasta&query={encoded_query}\"\n",
    "\n",
    "    # Output file\n",
    "    output_file = f\"../output/interpro/uniprot/{ipr_id}.fasta.gz\"\n",
    "\n",
    "    # Download\n",
    "    try:\n",
    "        print(f\"Downloading for {ipr_id}...\")\n",
    "        urllib.request.urlretrieve(full_url, output_file)\n",
    "        print(f\"Saved to {output_file}\")\n",
    "    except Exception as e:\n",
    "        print(f\"Failed to download {ipr_id}: {e}\")\n",
    "\n",
    "    # Be nice to the server\n",
    "    time.sleep(1)\n"
   ]
  },
  {
   "cell_type": "code",
   "execution_count": null,
   "id": "22525808-97b5-44ca-bd5d-3ea3a48cf936",
   "metadata": {},
   "outputs": [],
   "source": []
  }
 ],
 "metadata": {
  "kernelspec": {
   "display_name": "Python 3 (ipykernel)",
   "language": "python",
   "name": "python3"
  },
  "language_info": {
   "codemirror_mode": {
    "name": "ipython",
    "version": 3
   },
   "file_extension": ".py",
   "mimetype": "text/x-python",
   "name": "python",
   "nbconvert_exporter": "python",
   "pygments_lexer": "ipython3",
   "version": "3.11.7"
  }
 },
 "nbformat": 4,
 "nbformat_minor": 5
}
